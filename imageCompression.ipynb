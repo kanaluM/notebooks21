{
 "cells": [
  {
   "cell_type": "markdown",
   "metadata": {},
   "source": [
    "# Image Compression!\n",
    "\n",
    "Welcome to the image-compression notebook\n",
    "\n",
    "Let's get started by running some libraries (these are all standard libraries that should be installed already...) and functions\n",
    "\n",
    "- `getRGB()` will get the pixel data of an image as a list-of-list-of-lists\n",
    "- `set_size()` is a helper function for the next function\n",
    "- `show_image()` uses the output from `getRGB()` to show an image\n",
    "- `saveRGB()` also uses the output of `getRGB()` to save a new image\n",
    "- `greyscaleHelp()` is a helper function for the next function\n",
    "- `greyscale()` converts an image to greyscale and returns a list-of-lists of pixel data"
   ]
  },
  {
   "cell_type": "code",
   "execution_count": null,
   "metadata": {},
   "outputs": [],
   "source": [
    "# libraries!\n",
    "import numpy as np\n",
    "from matplotlib import pyplot as plt\n",
    "from PIL import Image\n",
    "import scipy\n",
    "\n",
    "from matplotlib.pyplot import imread\n",
    "from numpy import pi\n",
    "from numpy import sin\n",
    "from numpy import zeros\n",
    "from numpy import r_\n",
    "from scipy import signal\n",
    "import matplotlib.pylab as pylab"
   ]
  },
  {
   "cell_type": "code",
   "execution_count": null,
   "metadata": {},
   "outputs": [],
   "source": [
    "def getRGB(filename):\n",
    "    \"\"\" reads a png or jpg file like 'pitzer_grounds.jpg' (a string)\n",
    "        returns the pixels as a list-of-lists-of-lists\n",
    "        this is accessible, but not fast: Use small images!\n",
    "    \"\"\"\n",
    "    original = Image.open(filename)\n",
    "    print(f\"Reading image from '{filename}':\")\n",
    "    print(f\"  Format: {original.format}\\n  Original Size: {original.size}\\n  Mode: {original.mode}\")\n",
    "    WIDTH, HEIGHT = original.size\n",
    "    px = original.load()\n",
    "    PIXEL_LIST = []\n",
    "    for r in range(HEIGHT):\n",
    "        row = []\n",
    "        for c in range(WIDTH):\n",
    "            row.append( px[c,r][:3] )\n",
    "        PIXEL_LIST.append( row )\n",
    "    return PIXEL_LIST"
   ]
  },
  {
   "cell_type": "code",
   "execution_count": null,
   "metadata": {},
   "outputs": [],
   "source": [
    "def set_size(width, height, ax=None):\n",
    "    \"\"\"Sets the size of an image when printing in the notebook\n",
    "       w, h: width, height in inches \"\"\"\n",
    "    w = width; h = height\n",
    "    if not ax: \n",
    "        ax=plt.gca()  # gets current axes\n",
    "    l = ax.figure.subplotpars.left\n",
    "    r = ax.figure.subplotpars.right\n",
    "    t = ax.figure.subplotpars.top\n",
    "    b = ax.figure.subplotpars.bottom\n",
    "    figw = float(w)/(r-l)\n",
    "    figh = float(h)/(t-b)\n",
    "    ax.figure.set_size_inches(figw, figh)"
   ]
  },
  {
   "cell_type": "code",
   "execution_count": null,
   "metadata": {},
   "outputs": [],
   "source": [
    "# wrapper for matplotlib's imshow function\n",
    "def show_image( rgbdata, hgt_in=5.42, wid_in=5.42 ):\n",
    "    \"\"\" shows an image whose pixels are in rgbdata \n",
    "        note:  rgbdata is a list-of-rows-of-pixels-of-rgb values, _not_ a filename!\n",
    "            use getRGB() to get this data!\n",
    "        hgt_in is the desired height (in inches)\n",
    "        wid_in is the desired width (in inches)\n",
    "            use set_size() with these parameters\n",
    "        _but_ the library will not change the aspect ratio (takes the smaller)\n",
    "        by default, the hgt_in and wid_in are 5.42 in.\n",
    "        (and feel free to change these!)\n",
    "    \"\"\"\n",
    "    fig, ax = plt.subplots()               # obtains the figure and axes objects\n",
    "    \n",
    "    if type(rgbdata[0][0]) == list:\n",
    "        im = ax.imshow(rgbdata)            # this is matplotlib's call to show an image \n",
    "    if type(rgbdata[0][0] == int):\n",
    "        im = ax.imshow(rgbdata, cmap=\"gray\")\n",
    "    \n",
    "    set_size(width=wid_in, height=hgt_in)  # matplotlib will maintain the image's aspect ratio\n",
    "    ax.axis('off')                         # turns off the axes (in units of pixels)\n",
    "    plt.show()                             # show the image"
   ]
  },
  {
   "cell_type": "code",
   "execution_count": null,
   "metadata": {},
   "outputs": [],
   "source": [
    "def saveRGB( PX, filename ):\n",
    "    \"\"\" saves a list-of-lists-of-lists of rgb pixels (PX) as filename where\n",
    "        len(PX) == the # of rows\n",
    "        len(PX[0]) == the # of columns\n",
    "        len(PX[0][0]) should be 3 (rgb)\n",
    "    \"\"\"\n",
    "    boxed_pixels = PX\n",
    "    print( 'Starting to save', filename, '...' )\n",
    "    H = len(PX)\n",
    "    W = len(PX[0])\n",
    "    im = Image.new(\"RGB\", (W, H), \"black\")\n",
    "    px = im.load()\n",
    "    for r in range(H):\n",
    "        for c in range(W):\n",
    "            bp = boxed_pixels[r][c]\n",
    "            t = tuple(bp)\n",
    "            px[c,r] = t\n",
    "    im.save( filename )\n",
    "    time.sleep(0.42)   # give the filesystem some time...\n",
    "    print( filename, \"saved.\" )    "
   ]
  },
  {
   "cell_type": "code",
   "execution_count": null,
   "metadata": {},
   "outputs": [],
   "source": [
    "def greyscaleHelp( rgbpixel ):\n",
    "    \"\"\" Helper Function\n",
    "        rgbpixel should be in the form [r,g,b]\n",
    "        returns [newred, newgreen, new blue],\n",
    "        based on their old versions!\n",
    "    \"\"\"\n",
    "    [r,g,b] = rgbpixel\n",
    "    lum = (21 * r)//100 + (72 * g)//100 + (7 * b)//100   # a generic formula to convert rgb to greyscale\n",
    "    return lum   # returns a single number"
   ]
  },
  {
   "cell_type": "code",
   "execution_count": null,
   "metadata": {},
   "outputs": [],
   "source": [
    "def greyscale( image ):\n",
    "    \"\"\"Makes an image grayscale\"\"\"\n",
    "    \n",
    "    new_image = [[ greyscaleHelp(pix) for pix in row] for row in image]   # sick list comprehension\n",
    "    return new_image"
   ]
  },
  {
   "cell_type": "markdown",
   "metadata": {},
   "source": [
    "## Singular Value Decomposition\n",
    "\n",
    "Grayscale image data is essentially a large matrix (it's a list-of-lists!). As you may learn in linear algebra, SVD is a special way to factor matrices using so-called \"singular values.\" It turns out that omitting data associated with the less-important singular values has very little impact on the quality of an image. \n",
    "\n",
    "Below you can choose an image (file) to compress. You can also choose different amounts of singular values to keep. \n",
    "\n",
    "For example, tha matrix with pixel data for \"dodds.jpg\" can be factored into three matrices (called U, $\\Sigma$, and V). The $\\Sigma$ matrix holds the singular values (in this case there are 682 of them). We can compress the image by splicing the matrices to only use the first n singular values with very little quality loss. Try is out with six different values (held in the list `comps`)"
   ]
  },
  {
   "cell_type": "code",
   "execution_count": null,
   "metadata": {},
   "outputs": [],
   "source": [
    "# choose an image to SVD-ify\n",
    "file = \"dodds.jpg\"\n",
    "\n",
    "# plot images with different number of components\n",
    "comps = [600, 400, 200, 100, 20, 5]\n",
    "\n",
    "# get rgb data\n",
    "rgb = getRGB(file)\n",
    "gray = np.asarray(greyscale(rgb))\n",
    "\n",
    "# obtain svd\n",
    "U, S, V = np.linalg.svd(gray)   # isn't numpy amazing?\n",
    "\n",
    "# inspect shapes of the matrices\n",
    "print(f\"\\nThe U matrix has shape {U.shape}\")\n",
    "print(f\"The Sigma matrix has shape {S.shape}\")\n",
    "print(f\"The V matrix has shape {V.shape}\")\n",
    "print(\"Make sure the largest value in the component list is < the smallest value you see above!\")\n",
    "\n",
    "plt.figure(figsize = (12, 8))\n",
    "for i in range(6):\n",
    "    low_rank = U[:, :comps[i]] @ np.diag(S[:comps[i]]) @ V[:comps[i], :]   # @ is used in numpy for matrix multiplication\n",
    "    plt.subplot(2, 3, i+1), plt.imshow(low_rank, cmap = 'gray'), plt.axis('off'), plt.title(\"components = \" + str(comps[i]))"
   ]
  },
  {
   "cell_type": "markdown",
   "metadata": {},
   "source": [
    "# DCT\n",
    "\n",
    "The Discrete Cosine Transformation is a bit complicated. You can see the details on a wikipedia page!\n",
    "\n",
    "https://en.wikipedia.org/wiki/Discrete_cosine_transform\n",
    "\n",
    "In short, DCT compresses an image by transforming a matrix into useful parts and not-so-useful parts (somewhat similar to SVD). Here, we will apply DCT to 8x8 blocks of pixels throughout the whole image\n",
    "\n",
    "First let's read in an image"
   ]
  },
  {
   "cell_type": "code",
   "execution_count": null,
   "metadata": {},
   "outputs": [],
   "source": [
    "filename = \"dodds.jpg\"   # image to work with\n",
    "\n",
    "rgb = getRGB(filename)\n",
    "im = np.asarray(greyscale(rgb))\n",
    "f = plt.figure(figsize=(8,8))\n",
    "plt.imshow(im, cmap=\"gray\")\n",
    "plt.title(\"Our favorite Prof\")\n",
    "plt.axis('off')\n",
    "plt.show()"
   ]
  },
  {
   "cell_type": "markdown",
   "metadata": {},
   "source": [
    "### Helper Functions\n",
    "\n",
    "Although these functions are very short, they are the ones that do all of the work! We use the scipy library to apply the transformation to the data. \n",
    "\n",
    "Run the cells below to apply DCT to an image and view what it does to one 8x8 block of pixels"
   ]
  },
  {
   "cell_type": "code",
   "execution_count": null,
   "metadata": {},
   "outputs": [],
   "source": [
    "def dct2(a):\n",
    "    return scipy.fft.dct( scipy.fft.dct( a, axis=0, norm='ortho' ), axis=1, norm='ortho' ).astype(int)\n",
    "\n",
    "def idct2(a):\n",
    "    return scipy.fft.idct( scipy.fft.idct( a, axis=0 , norm='ortho'), axis=1 , norm='ortho').astype(int)"
   ]
  },
  {
   "cell_type": "code",
   "execution_count": null,
   "metadata": {},
   "outputs": [],
   "source": [
    "imsize = im.shape\n",
    "dct = np.zeros(imsize)\n",
    "\n",
    "# Do 8x8 DCT on image (in-place)\n",
    "for i in r_[:imsize[0]:8]:\n",
    "    for j in r_[:imsize[1]:8]:\n",
    "        dct[i:(i+8),j:(j+8)] = dct2( im[i:(i+8),j:(j+8)] ) "
   ]
  },
  {
   "cell_type": "code",
   "execution_count": null,
   "metadata": {},
   "outputs": [],
   "source": [
    "pos = 128\n",
    "\n",
    "# Extract a block from image\n",
    "fig, ax = plt.subplots(1,2, figsize=(10,10))\n",
    "\n",
    "ax[0].imshow(im[pos:pos+8,pos:pos+8],cmap='gray')\n",
    "ax[0].set_title( \"An 8x8 Image block\")\n",
    "ax[0].axis('off')\n",
    "\n",
    "# Display the dct of that block\n",
    "ax[1].imshow(dct[pos:pos+8,pos:pos+8], cmap='gray', vmax = np.max(dct)*0.01,vmin = 0, extent=[0,pi,pi,0])\n",
    "ax[1].set_title( \"An 8x8 DCT block\")\n",
    "ax[1].axis('off')\n",
    "\n",
    "plt.show()"
   ]
  },
  {
   "cell_type": "code",
   "execution_count": null,
   "metadata": {},
   "outputs": [],
   "source": [
    "plt.figure(figsize=(10,10))\n",
    "plt.imshow(dct,cmap='gray',vmax = np.max(dct)*0.01,vmin = 0)\n",
    "plt.title( \"8x8 DCTs of the image\")\n",
    "plt.axis('off')\n",
    "plt.show()"
   ]
  },
  {
   "cell_type": "markdown",
   "metadata": {},
   "source": [
    "### Compression Time\n",
    "\n",
    "The cell below will keep the cells with values above a certain threshold and delete everything else. As you might see, a significant amount of the data is deleted..."
   ]
  },
  {
   "cell_type": "code",
   "execution_count": null,
   "metadata": {},
   "outputs": [],
   "source": [
    "# Threshold\n",
    "thresh = 0.012\n",
    "\n",
    "dct_thresh = dct * (abs(dct) > (thresh*np.max(dct)))\n",
    "\n",
    "plt.figure(figsize=(10,10))\n",
    "plt.imshow(dct_thresh,cmap='gray',vmax = np.max(dct)*0.01,vmin = 0)\n",
    "plt.title( \"Thresholded 8x8 DCTs of the image\")\n",
    "\n",
    "percent_nonzeros = np.sum( dct_thresh != 0.0 ) / (imsize[0]*imsize[1]*1.0)\n",
    "\n",
    "print(f\"Keeping only {percent_nonzeros*100.0}% of the DCT coefficients\")\n",
    "plt.show()"
   ]
  },
  {
   "cell_type": "markdown",
   "metadata": {},
   "source": [
    "### Inverse\n",
    "\n",
    "We can now perform the inverse of DCT to get a normal-looking image back!\n",
    "\n",
    "How does it look compared to the original?"
   ]
  },
  {
   "cell_type": "code",
   "execution_count": null,
   "metadata": {},
   "outputs": [],
   "source": [
    "im_dct = np.zeros(imsize)\n",
    "\n",
    "for i in r_[:imsize[0]:8]:\n",
    "    for j in r_[:imsize[1]:8]:\n",
    "        im_dct[i:(i+8),j:(j+8)] = idct2( dct_thresh[i:(i+8),j:(j+8)] ).astype(int)\n",
    "        \n",
    "fig, ax = plt.subplots(1,2, figsize=(10,10))\n",
    "\n",
    "# original\n",
    "ax[0].imshow(im,cmap='gray')\n",
    "ax[0].set_title( \"Original\")\n",
    "ax[0].axis('off')\n",
    "\n",
    "# compressed\n",
    "ax[1].imshow(im_dct.astype(int), cmap='gray')\n",
    "ax[1].set_title( \"DCT compressed\")\n",
    "ax[1].axis('off')\n",
    "\n",
    "print(\"Here are the first 20 pixels in the original image\")\n",
    "print(im[0][:20])\n",
    "print(\"\\nHere are the first 20 pixels in the conpressed image\")\n",
    "print(im_dct.astype(int)[0][:20])\n",
    "print(\"\\nNotice how values are repeated more frequently in DCT!\")\n",
    "\n",
    "plt.show()"
   ]
  }
 ],
 "metadata": {
  "kernelspec": {
   "display_name": "Python 3",
   "language": "python",
   "name": "python3"
  },
  "language_info": {
   "codemirror_mode": {
    "name": "ipython",
    "version": 3
   },
   "file_extension": ".py",
   "mimetype": "text/x-python",
   "name": "python",
   "nbconvert_exporter": "python",
   "pygments_lexer": "ipython3",
   "version": "3.8.3"
  }
 },
 "nbformat": 4,
 "nbformat_minor": 4
}
