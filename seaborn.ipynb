{
 "cells": [
  {
   "cell_type": "markdown",
   "metadata": {},
   "source": [
    "# Sea-ing the Data!\n",
    "\n",
    "There are many great tools like Pandas and Numpy that allow you to easily manipulate data.\n",
    "But what's often more important is VISUALIZING the data.\n",
    "\n",
    "Matplotlib provides a great way to create graphs from data, but the syntax is often very cumbersome.\n",
    "\n",
    "Seaborn is essentially a \"high-level\" library that uses matplotlib to make graphs with less required code!\n",
    "\n",
    "Where does the name \"Seaborn\" come from? We are open to suggestions..."
   ]
  },
  {
   "cell_type": "code",
   "execution_count": null,
   "metadata": {},
   "outputs": [],
   "source": [
    "# We will need data in order to make graphs! We will use pandas\n",
    "import pandas as pd\n",
    "\n",
    "# matplotlib is an essential whenever we are making graphs! \n",
    "# Seaborn is simply a shortcut for using matplotlib!\n",
    "import matplotlib.pyplot as plt\n",
    "\n",
    "# Our 'magic' function to display graphs nicely\n",
    "%matplotlib inline\n",
    "\n",
    "# Import Seaborn!\n",
    "import seaborn as sns"
   ]
  },
  {
   "cell_type": "code",
   "execution_count": null,
   "metadata": {},
   "outputs": [],
   "source": [
    "# First we will import our data using pandas\n",
    "iris = pd.read_csv('./week3/iris.csv')\n",
    "iris"
   ]
  },
  {
   "cell_type": "code",
   "execution_count": null,
   "metadata": {},
   "outputs": [],
   "source": [
    "# To illustrate the beauty of data visualization...\n",
    "# Let's start with perhaps the most powerful type of plot applicable to this data set: a pair plot\n",
    "\n",
    "# The POWER of seaborn: one-line code\n",
    "PairPlot = sns.pairplot(data=iris, hue='Species')\n",
    "# Making graphs has never been easier!\n",
    "\n",
    "# Unpacking this...\n",
    "# pairplot() is the function that - you guessed it - makes the pairplot\n",
    "# 'data' is ... where the data comes from (our pandas data frame)\n",
    "# 'hue' colors the dots based on values in the designated ('Species') column in the data frame\n",
    "\n",
    "# What on Earth is a pair plot?\n",
    "# A scatter plot compares two values (i.e. length and width) \n",
    "# A pair plot simply creates a scatter plot of every possible pair of values\n",
    "# You can see which values are being compared by looking at the labels!\n",
    "# The diagonal plots however are simply the distribution of a single value (a 'univariate' distribution)\n",
    "\n",
    "# Why did we name the plot?\n",
    "# Without a name, an ugly storage location (?) name gets printed at the top of the graph..."
   ]
  },
  {
   "cell_type": "code",
   "execution_count": null,
   "metadata": {},
   "outputs": [],
   "source": [
    "# Now we know how striking Seaborn and data visualization can be\n",
    "# Let's explore the relationship between petal length and petal width using a single scatter plot\n",
    "\n",
    "ScatterPlot = sns.scatterplot(x='Petal length', y='Petal width', data=iris, hue='Species')\n",
    "\n",
    "# Unpacking this...\n",
    "# scatterplot() is the function that - you guessed it - makes the scatterplot\n",
    "# 'x' is ... the data for the x axis\n",
    "# 'y' is ... the data for the y axis\n",
    "\n",
    "# Can you find this graph in the pair plot?"
   ]
  },
  {
   "cell_type": "code",
   "execution_count": null,
   "metadata": {},
   "outputs": [],
   "source": [
    "# We see that there may be some kind of linear relationship between these variables!\n",
    "# We can use a lmplot (linear model) to add regression lines to the data\n",
    "\n",
    "LmPlot = sns.lmplot(x='Petal length', y='Petal width', data=iris)\n",
    "\n",
    "# If you add the 'hue' parameter, the data will become separated by species and you can view the best-fit line for each species\n",
    "\n",
    "# For whatever reason, there is no built in feature to find the equation of the best-fit line\n",
    "# Feel free to GOOGLE how to do that using another library like NumPy or SciPy"
   ]
  },
  {
   "cell_type": "code",
   "execution_count": null,
   "metadata": {},
   "outputs": [],
   "source": [
    "# Let's try something else now...\n",
    "# Which flowers have the longest petals?\n",
    "# You could create something like a dot plot or a box plot, but let's try something else\n",
    "\n",
    "ViolinPlot = sns.violinplot(x='Species', y='Petal length', data=iris, inner='stick')\n",
    "\n",
    "# Unpacking this...\n",
    "# 'inner' draws a stick for each data point\n",
    "# Notice that the plots get wider in areas with more sticks!\n",
    "\n",
    "# A violin plot is very similar to a box-and-whiskers plot, but has more detail (and is much cooler)"
   ]
  },
  {
   "cell_type": "markdown",
   "metadata": {},
   "source": [
    "As you can see, seaborn provides an extremely easy way to make graphs\n",
    "\n",
    "Check out https://seaborn.pydata.org/examples/index.html for more ideas!"
   ]
  }
 ],
 "metadata": {
  "kernelspec": {
   "display_name": "Python 3",
   "language": "python",
   "name": "python3"
  },
  "language_info": {
   "codemirror_mode": {
    "name": "ipython",
    "version": 3
   },
   "file_extension": ".py",
   "mimetype": "text/x-python",
   "name": "python",
   "nbconvert_exporter": "python",
   "pygments_lexer": "ipython3",
   "version": "3.8.3"
  }
 },
 "nbformat": 4,
 "nbformat_minor": 4
}
