{
 "cells": [
  {
   "cell_type": "markdown",
   "metadata": {},
   "source": [
    "# Random Walks!"
   ]
  },
  {
   "cell_type": "code",
   "execution_count": null,
   "metadata": {},
   "outputs": [],
   "source": [
    "import random\n",
    "import matplotlib.pyplot as plt\n",
    "import matplotlib as mpl\n",
    "from matplotlib import rc\n",
    "from matplotlib import animation\n",
    "import time\n",
    "from IPython import display\n",
    "import seaborn as sns\n",
    "import numpy as np\n",
    "from scipy import stats\n",
    "from mpl_toolkits import mplot3d\n",
    "%matplotlib inline"
   ]
  },
  {
   "cell_type": "markdown",
   "metadata": {},
   "source": [
    "## Random Walks in One Dimension"
   ]
  },
  {
   "cell_type": "code",
   "execution_count": null,
   "metadata": {},
   "outputs": [],
   "source": [
    "def move():\n",
    "    \"\"\"Gives change in coordinates after one hop\"\"\"\n",
    "    b = random.choice([-1,1])\n",
    "    return b"
   ]
  },
  {
   "cell_type": "code",
   "execution_count": null,
   "metadata": {},
   "outputs": [],
   "source": [
    "def stepsPerRun(x,xBound):\n",
    "    \"\"\"Runs one simulation with the given parameters.\n",
    "       Returns steps needed to complete simulation\"\"\"\n",
    "    steps = 0\n",
    "    while x in range(1,xBound):\n",
    "        # print(f\"x is {x}\")\n",
    "        b = move()\n",
    "        # print(f\"Moving {b} units\")\n",
    "        x += b\n",
    "        # print(f\"Now x is {x}\")\n",
    "        steps += 1\n",
    "        # print(f\"{steps} hops so far\")\n",
    "    return steps"
   ]
  },
  {
   "cell_type": "code",
   "execution_count": null,
   "metadata": {},
   "outputs": [],
   "source": [
    "def runVis(x=2,xBound=5):\n",
    "    \"\"\"Runs simulator visual with defaults\"\"\"\n",
    "    fig = plt.figure(figsize=(4,1))\n",
    "    ax = fig.add_subplot()\n",
    "    ax.plot(x, 0, 'go')\n",
    "    ax.set_aspect('equal')\n",
    "    ax.grid()\n",
    "    ax.set_xticks(list(range(xBound+1)))\n",
    "    ax.set_yticks([])\n",
    "    steps = 0\n",
    "    while x in range(1,xBound):\n",
    "        steps += 1\n",
    "        # print(f\"x is {x}\")\n",
    "        b = move()\n",
    "        # print(f\"Moving {b} units\")\n",
    "        ax.quiver(x,0,b,0, angles='xy', scale_units='xy', scale=1, color='blue')\n",
    "        x += b\n",
    "        plt.plot(x, 0, 'ro')\n",
    "        # print(f\"Now x is {x}\")\n",
    "        print(f\"Frog has hopped {steps} times(s)\")\n",
    "        ax.set_aspect('equal')\n",
    "        ax.set_xticks(list(range(xBound+1)))\n",
    "        ax.set_yticks([])\n",
    "        display.display(plt.gcf())\n",
    "        display.clear_output(wait=True)  \n",
    "        time.sleep(0.5)\n",
    "\n",
    "    print(f\"Ended at {x}\")\n",
    "    print(f\"Frog has hopped {steps} time(s) total\")"
   ]
  },
  {
   "cell_type": "code",
   "execution_count": null,
   "metadata": {},
   "outputs": [],
   "source": [
    "def runSim(xBound,x,runs=100):\n",
    "    \"\"\"Collects data on one case\"\"\"\n",
    "\n",
    "    Data = []\n",
    "\n",
    "    for i in range(runs):\n",
    "        hops = stepsPerRun(x,xBound)\n",
    "        Data += [hops]\n",
    "\n",
    "    ArrayData = np.asarray(Data)\n",
    "    plot = sns.displot(x=ArrayData,kind=\"kde\")\n",
    "    # plot = sns.countplot(x=ArrayData)\n",
    "    plot.set(xlabel='Number of Hops', ylabel='Frequency', title=f\"Frog Hopping on a {xBound} Unit Line Starting at x={x}\")\n",
    "    plt.show()\n",
    "    print(f\"Experiment run on a {xBound} unit line with frog starting at {x}\")\n",
    "    print(f\"The mean number of hops was {np.mean(Data)}\")\n",
    "    print(f\"The median number of hops was {np.median(Data)}\")\n",
    "    print(f\"The most common number of hops was {int(stats.mode(Data)[0])} (frequency = {int(stats.mode(Data)[1])}/{runs})\")\n",
    "    print(f\"The largest number of hops was {np.amax(Data)}\")\n",
    "    print(f\"The smallest number of hops was {np.amin(Data)}\")"
   ]
  },
  {
   "cell_type": "code",
   "execution_count": null,
   "metadata": {},
   "outputs": [],
   "source": [
    "def runSimMean(xBound,x,runs=100):\n",
    "    \"\"\"Returns the mean number of hops for given parameters\"\"\"\n",
    "\n",
    "    Data = []\n",
    "\n",
    "    for i in range(runs):\n",
    "        hops = stepsPerRun(x,xBound)\n",
    "        Data += [hops]\n",
    "\n",
    "    ArrayData = np.asarray(Data)\n",
    "    # print(f\"Experiment run on a {xBound}x{yBound} grid with frog starting at ({x},{y})\")\n",
    "    # print(f\"The mean number of hops was {np.mean(Data)}\")\n",
    "    \n",
    "    return np.mean(Data)"
   ]
  },
  {
   "cell_type": "code",
   "execution_count": null,
   "metadata": {},
   "outputs": [],
   "source": [
    "def aggregateMean(xBound=10):\n",
    "    A = np.empty(xBound-1)\n",
    "    for i in range(1,xBound):\n",
    "        mean = runSimMean(xBound,x=i)\n",
    "        A[i-1] = mean\n",
    "    return A"
   ]
  },
  {
   "cell_type": "code",
   "execution_count": null,
   "metadata": {},
   "outputs": [],
   "source": [
    "def everyPointGraph(xBound=10):\n",
    "    \"\"\"Shows the mean number of hops needed when starting \n",
    "       at a given point as a lineplot\"\"\"\n",
    "    \n",
    "    array = aggregateMean(xBound)\n",
    "    fig, ax = plt.subplots(figsize=(6,4))\n",
    "    plot = sns.lineplot(x=list(range(1,xBound)), y=array)\n",
    "    plot.set(title=f\"Number of Hops as a Function of Starting Position ({xBound} Unit Grid)\\n\")\n",
    "    plot.set(xlabel='x coordinate (start)',ylabel='Number of Hops')\n",
    "    plt.show()"
   ]
  },
  {
   "cell_type": "code",
   "execution_count": null,
   "metadata": {},
   "outputs": [],
   "source": [
    "runSim(5,3,runs=100)"
   ]
  },
  {
   "cell_type": "code",
   "execution_count": null,
   "metadata": {},
   "outputs": [],
   "source": [
    "runVis(xBound=10,x=1)"
   ]
  },
  {
   "cell_type": "code",
   "execution_count": null,
   "metadata": {},
   "outputs": [],
   "source": [
    "everyPointGraph()"
   ]
  },
  {
   "cell_type": "markdown",
   "metadata": {},
   "source": [
    "## Random Walk in One Dimension: Classic"
   ]
  },
  {
   "cell_type": "code",
   "execution_count": null,
   "metadata": {},
   "outputs": [],
   "source": [
    "def move():\n",
    "    \"\"\"Gives change in coordinates after one hop\"\"\"\n",
    "    b = random.choice([-1,1])\n",
    "    return b"
   ]
  },
  {
   "cell_type": "code",
   "execution_count": null,
   "metadata": {},
   "outputs": [],
   "source": [
    "def stepsPerRunR(radius):\n",
    "    \"\"\"Runs one simulation with the given radius.\n",
    "       Returns steps needed to complete simulation\"\"\"\n",
    "    steps = 0\n",
    "    x = 0\n",
    "    while x in range(-radius+1,radius):\n",
    "        # print(f\"x is {x}\")\n",
    "        b = move()\n",
    "        # print(f\"Moving {b} units\")\n",
    "        x += b\n",
    "        # print(f\"Now x is {x}\")\n",
    "        steps += 1\n",
    "        # print(f\"{steps} hops so far\")\n",
    "    return steps"
   ]
  },
  {
   "cell_type": "code",
   "execution_count": null,
   "metadata": {},
   "outputs": [],
   "source": [
    "def runVisR(radius=3):\n",
    "    \"\"\"Runs simulator visual with defaults\"\"\"\n",
    "    fig = plt.figure(figsize=(4,1))\n",
    "    ax = fig.add_subplot()\n",
    "    ax.plot(0, 0, 'go')\n",
    "    ax.set_aspect('equal')\n",
    "    ax.grid()\n",
    "    ax.set_xticks(list(range(-radius,radius+1)))\n",
    "    ax.set_yticks([])\n",
    "    steps = 0\n",
    "    x = 0\n",
    "    while x in range(-radius+1,radius):\n",
    "        steps += 1\n",
    "        # print(f\"x is {x}\")\n",
    "        b = move()\n",
    "        # print(f\"Moving {b} units\")\n",
    "        ax.quiver(x,0,b,0, angles='xy', scale_units='xy', scale=1, color='blue')\n",
    "        x += b\n",
    "        plt.plot(x, 0, 'ro')\n",
    "        # print(f\"Now x is {x}\")\n",
    "        print(f\"Frog has hopped {steps} times(s)\")\n",
    "        ax.set_aspect('equal')\n",
    "        ax.set_xticks(list(range(-radius,radius+1)))\n",
    "        ax.set_yticks([])\n",
    "        display.display(plt.gcf())\n",
    "        display.clear_output(wait=True)  \n",
    "        time.sleep(0.5)\n",
    "\n",
    "    print(f\"Ended at {x}\")\n",
    "    print(f\"Frog has hopped {steps} time(s) total\")"
   ]
  },
  {
   "cell_type": "code",
   "execution_count": null,
   "metadata": {},
   "outputs": [],
   "source": [
    "def runSimR(radius,runs=100):\n",
    "    \"\"\"Collects data on one case\"\"\"\n",
    "\n",
    "    Data = []\n",
    "\n",
    "    for i in range(runs):\n",
    "        hops = stepsPerRunR(radius)\n",
    "        Data += [hops]\n",
    "\n",
    "    ArrayData = np.asarray(Data)\n",
    "    plot = sns.displot(x=ArrayData,kind=\"kde\")\n",
    "    # plot = sns.countplot(x=ArrayData)\n",
    "    plot.set(xlabel='Number of Hops', ylabel='Frequency', title=f\"Frog Hopping on a Line with Radius {radius}\")\n",
    "    plt.show()\n",
    "    print(f\"Experiment run with radius {radius}\")\n",
    "    print(f\"The mean number of hops was {np.mean(Data)}\")\n",
    "    print(f\"The median number of hops was {np.median(Data)}\")\n",
    "    print(f\"The most common number of hops was {int(stats.mode(Data)[0])} (frequency = {int(stats.mode(Data)[1])}/{runs})\")\n",
    "    print(f\"The largest number of hops was {np.amax(Data)}\")\n",
    "    print(f\"The smallest number of hops was {np.amin(Data)}\")"
   ]
  },
  {
   "cell_type": "code",
   "execution_count": null,
   "metadata": {},
   "outputs": [],
   "source": [
    "def runSimRAll(radius,runs=100):\n",
    "    \"\"\"Returns the all the number of hops for given parameters\"\"\"\n",
    "\n",
    "    Data = []\n",
    "\n",
    "    for i in range(runs):\n",
    "        hops = stepsPerRunR(radius)\n",
    "        Data += [hops]\n",
    "\n",
    "    return Data"
   ]
  },
  {
   "cell_type": "code",
   "execution_count": null,
   "metadata": {},
   "outputs": [],
   "source": [
    "def everyPointGraphRAll(radius=10):\n",
    "    \"\"\"Shows the every number of hops needed when starting \n",
    "       in the center as a scatterplot while varying radius\"\"\"\n",
    "    \n",
    "    fig, ax = plt.subplots(figsize=(6,6))\n",
    "    ax.set(title=\"Number of Hops as a Function of Line Radius\\n\",xlabel='Radius',ylabel='# of Hops')\n",
    "    x=list(range(radius+1))\n",
    "    xData = [] \n",
    "    yData = []\n",
    "    means = []\n",
    "    for i in x:\n",
    "        yValues = runSimRAll(i,300)\n",
    "        for y in yValues:\n",
    "            xData += [i]\n",
    "            yData += [y]\n",
    "        mean = np.mean(yValues)\n",
    "        # print(f\"The mean of the values for r={i} is {mean}; it should be approximately {i**2}\")\n",
    "        means += [mean]\n",
    "    plot = sns.scatterplot(x=xData,y=yData,ax=ax)\n",
    "    plotM = sns.lineplot(x=x,y=means,color='r',ax=ax)\n",
    "    plotF = sns.lineplot(x=x,y=[k**2 for k in x],color='m',ax=ax)\n",
    "    ax.legend(['Mean','x^2','Raw Data'])\n",
    "    ax.set_xlim(0,radius+1)\n",
    "    ax.set_ylim(0,radius**2+radius)\n",
    "    plt.show()"
   ]
  },
  {
   "cell_type": "code",
   "execution_count": null,
   "metadata": {},
   "outputs": [],
   "source": [
    "everyPointGraphRAll(12)"
   ]
  },
  {
   "cell_type": "code",
   "execution_count": null,
   "metadata": {},
   "outputs": [],
   "source": [
    "def runSimMeanR(radius,runs=100):\n",
    "    \"\"\"Returns the mean number of hops for given parameters\"\"\"\n",
    "\n",
    "    Data = []\n",
    "\n",
    "    for i in range(runs):\n",
    "        hops = stepsPerRunR(radius)\n",
    "        Data += [hops]\n",
    "\n",
    "    ArrayData = np.asarray(Data)\n",
    "    # print(f\"Experiment run on a {xBound}x{yBound} grid with frog starting at ({x},{y})\")\n",
    "    # print(f\"The mean number of hops was {np.mean(Data)}\")\n",
    "    \n",
    "    return np.mean(ArrayData)"
   ]
  },
  {
   "cell_type": "code",
   "execution_count": null,
   "metadata": {},
   "outputs": [],
   "source": [
    "def aggregateMeanR(radius=5):\n",
    "    A = np.empty(radius)\n",
    "    for i in range(1,radius+1):\n",
    "        mean = runSimMeanR(i,200)\n",
    "        A[i-1] = mean\n",
    "    return A"
   ]
  },
  {
   "cell_type": "code",
   "execution_count": null,
   "metadata": {},
   "outputs": [],
   "source": [
    "def everyPointGraphR(radius=10):\n",
    "    \"\"\"Shows the mean number of hops needed when starting \n",
    "       in the center as a lineplot\"\"\"\n",
    "    \n",
    "    array = aggregateMeanR(radius)\n",
    "    x=list(range(1,radius+1))\n",
    "    fig, ax = plt.subplots(figsize=(6,4))\n",
    "    plot = sns.lineplot(x=x, y=array)\n",
    "    plot.set(title=\"Number of Hops as a Function of Grid Radius\\n\",xlabel='Radius',ylabel='Mean # of Hops')\n",
    "    fit = sns.lineplot(x=x, y=[n**2 for n in x])\n",
    "    ax.legend(['Simulated', 'x^2'])\n",
    "    plt.show()"
   ]
  },
  {
   "cell_type": "code",
   "execution_count": null,
   "metadata": {},
   "outputs": [],
   "source": [
    "runSimR(5,runs=100)"
   ]
  },
  {
   "cell_type": "code",
   "execution_count": null,
   "metadata": {},
   "outputs": [],
   "source": [
    "runVisR()"
   ]
  },
  {
   "cell_type": "code",
   "execution_count": null,
   "metadata": {},
   "outputs": [],
   "source": [
    "everyPointGraphR(20)"
   ]
  },
  {
   "cell_type": "markdown",
   "metadata": {},
   "source": [
    "## Random Walks in Two Dimensions!"
   ]
  },
  {
   "cell_type": "code",
   "execution_count": null,
   "metadata": {},
   "outputs": [],
   "source": [
    "def move2D():\n",
    "    \"\"\"Gives change in coordinates after one hop\"\"\"\n",
    "    \n",
    "    a = random.choice(['vertical','horizontal'])\n",
    "    b = random.choice([-1,1])\n",
    "    return a,b"
   ]
  },
  {
   "cell_type": "code",
   "execution_count": null,
   "metadata": {},
   "outputs": [],
   "source": [
    "def stepsPerRun2D(x,y,xBound,yBound):\n",
    "    \"\"\"Runs one simulation with the given parameters.\n",
    "       Returns steps needed to complete simulation\"\"\"\n",
    "    steps = 0\n",
    "    while x in range(1,xBound) and y in range(1,yBound):\n",
    "        # print(f\"x is {x} and y is {y}\")\n",
    "        a,b = move2D()\n",
    "        # print(f\"Moving {a} by {b} units\")\n",
    "        if a == \"vertical\":\n",
    "            y += b\n",
    "        elif a == \"horizontal\":\n",
    "            x += b\n",
    "        # print(f\"Now x is {x} and y is {y}\")\n",
    "        steps += 1\n",
    "        # print(f\"{steps} hops so far\")\n",
    "    return steps"
   ]
  },
  {
   "cell_type": "code",
   "execution_count": null,
   "metadata": {},
   "outputs": [],
   "source": [
    "def runVis2D(x=2,y=2,xBound=5,yBound=5,):\n",
    "    \"\"\"Runs simulator visual with defaults\"\"\"\n",
    "    fig = plt.figure(figsize=(4,4))\n",
    "    ax = fig.add_subplot()\n",
    "    ax.plot(x, y, 'go')\n",
    "    ax.set_aspect('equal')\n",
    "    ax.grid()\n",
    "    ax.set_xticks(list(range(xBound+1)))\n",
    "    ax.set_yticks(list(range(yBound+1)))\n",
    "    steps = 0\n",
    "    while x in range(1,xBound) and y in range(1,yBound):\n",
    "        steps += 1\n",
    "        # print(f\"x is {x} and y is {y}\")\n",
    "        a,b = move2D()\n",
    "        # print(f\"Moving {a} by {b} units\")\n",
    "        if a == \"vertical\":\n",
    "            ax.quiver(x,y,0,b, angles='xy', scale_units='xy', scale=1, color='blue')\n",
    "            y += b\n",
    "        elif a == \"horizontal\":\n",
    "            ax.quiver(x,y,b,0, angles='xy', scale_units='xy', scale=1, color='blue')\n",
    "            x += b\n",
    "        plt.plot(x, y, 'ro')\n",
    "        # print(f\"Now x is {x} and y is {y}\")\n",
    "        print(f\"Frog has hopped {steps} times(s)\")\n",
    "        ax.set_aspect('equal')\n",
    "        ax.set_xticks(list(range(xBound+1)))\n",
    "        ax.set_yticks(list(range(yBound+1))) \n",
    "        display.display(plt.gcf())\n",
    "        display.clear_output(wait=True)  \n",
    "        time.sleep(0.5)\n",
    "\n",
    "    print(f\"Ended at ({x}, {y})\")\n",
    "    print(f\"Frog has hopped {steps} time(s) total\")"
   ]
  },
  {
   "cell_type": "code",
   "execution_count": null,
   "metadata": {},
   "outputs": [],
   "source": [
    "def runSim2D(xBound,yBound,x,y,runs=100):\n",
    "    \"\"\"Collects data on one case\"\"\"\n",
    "\n",
    "    Data = []\n",
    "\n",
    "    for i in range(runs):\n",
    "        hops = stepsPerRun2D(x,y,xBound,yBound)\n",
    "        Data += [hops]\n",
    "\n",
    "    ArrayData = np.asarray(Data)\n",
    "    plot = sns.displot(x=ArrayData,kind=\"kde\")\n",
    "    # plot = sns.countplot(x=ArrayData)\n",
    "    plot.set(xlabel='Number of Hops', ylabel='Frequency', title=f\"Frog Hopping on a {xBound}x{yBound} Grid Starting at ({x},{y})\")\n",
    "    plt.show()\n",
    "    print(f\"Experiment run on a {xBound}x{yBound} grid with frog starting at ({x},{y})\")\n",
    "    print(f\"The mean number of hops was {np.mean(Data)}\")\n",
    "    print(f\"The median number of hops was {np.median(Data)}\")\n",
    "    print(f\"The most common number of hops was {int(stats.mode(Data)[0])} (frequency = {int(stats.mode(Data)[1])}/{runs})\")\n",
    "    print(f\"The largest number of hops was {np.amax(Data)}\")\n",
    "    print(f\"The smallest number of hops was {np.amin(Data)}\")"
   ]
  },
  {
   "cell_type": "code",
   "execution_count": null,
   "metadata": {},
   "outputs": [],
   "source": [
    "def runSimMean2D(xBound,yBound,x,y,runs=100):\n",
    "    \"\"\"Returns the mean number of hops for given parameters\"\"\"\n",
    "\n",
    "    Data = []\n",
    "\n",
    "    for i in range(runs):\n",
    "        hops = stepsPerRun2D(x,y,xBound,yBound)\n",
    "        Data += [hops]\n",
    "\n",
    "    ArrayData = np.asarray(Data)\n",
    "    # print(f\"Experiment run on a {xBound}x{yBound} grid with frog starting at ({x},{y})\")\n",
    "    # print(f\"The mean number of hops was {np.mean(Data)}\")\n",
    "    \n",
    "    return np.mean(Data)"
   ]
  },
  {
   "cell_type": "code",
   "execution_count": null,
   "metadata": {},
   "outputs": [],
   "source": [
    "def aggregateMean2D(xBound=10,yBound=10):\n",
    "    A = np.empty((xBound-1,yBound-1))\n",
    "    for i in range(1,xBound):\n",
    "        for j in range(1,yBound):\n",
    "            mean = runSimMean2D(xBound,yBound,x=i,y=j)\n",
    "            A[i-1][j-1] = mean\n",
    "    return A"
   ]
  },
  {
   "cell_type": "code",
   "execution_count": null,
   "metadata": {},
   "outputs": [],
   "source": [
    "def everyPointGraph2D(xBound=10,yBound=10):\n",
    "    \"\"\"Shows the mean number of hops needed when starting \n",
    "       at a given point as a heatmap\"\"\"\n",
    "    \n",
    "    array = aggregateMean2D(xBound,yBound)\n",
    "    fig, ax = plt.subplots(figsize=(8,8))\n",
    "    plot = sns.heatmap(array,ax=ax,cmap=\"YlGnBu\")\n",
    "    plot.set_aspect('equal')\n",
    "    plot.set(title=f\"Number of Hops as a Function of Starting Position ({xBound}x{yBound} grid)\\n\")\n",
    "    plot.set(xlabel='x coordinate (start)',ylabel='y coordinate (start)')\n",
    "    posy = plt.yticks()[0]\n",
    "    posx = plt.yticks()[0]\n",
    "    plt.xticks(posx, list(range(1,xBound)))\n",
    "    plt.yticks(posy, list(range(1,yBound)))\n",
    "    plot.invert_yaxis()\n",
    "    plt.show()"
   ]
  },
  {
   "cell_type": "code",
   "execution_count": null,
   "metadata": {},
   "outputs": [],
   "source": [
    "runSim2D(5,5,1,1)"
   ]
  },
  {
   "cell_type": "code",
   "execution_count": null,
   "metadata": {},
   "outputs": [],
   "source": [
    "runVis2D()"
   ]
  },
  {
   "cell_type": "code",
   "execution_count": null,
   "metadata": {},
   "outputs": [],
   "source": [
    "everyPointGraph2D(20,20)"
   ]
  },
  {
   "cell_type": "markdown",
   "metadata": {},
   "source": [
    "## Random Walks in 2D: \"Classic\""
   ]
  },
  {
   "cell_type": "code",
   "execution_count": null,
   "metadata": {},
   "outputs": [],
   "source": [
    "def move2D():\n",
    "    \"\"\"Gives change in coordinates after one hop\"\"\"\n",
    "    \n",
    "    a = random.choice(['vertical','horizontal'])\n",
    "    b = random.choice([-1,1])\n",
    "    return a,b"
   ]
  },
  {
   "cell_type": "code",
   "execution_count": null,
   "metadata": {},
   "outputs": [],
   "source": [
    "def stepsPerRunR2D(radius):\n",
    "    \"\"\"Runs one simulation with the given parameters.\n",
    "       Returns steps needed to complete simulation\"\"\"\n",
    "    steps = 0\n",
    "    x = 0\n",
    "    y = 0\n",
    "    while x in range(-radius+1,radius) and y in range(-radius+1,radius):\n",
    "        # print(f\"x is {x} and y is {y}\")\n",
    "        a,b = move2D()\n",
    "        # print(f\"Moving {a} by {b} units\")\n",
    "        if a == \"vertical\":\n",
    "            y += b\n",
    "        elif a == \"horizontal\":\n",
    "            x += b\n",
    "        # print(f\"Now x is {x} and y is {y}\")\n",
    "        steps += 1\n",
    "        # print(f\"{steps} hops so far\")\n",
    "    return steps"
   ]
  },
  {
   "cell_type": "code",
   "execution_count": null,
   "metadata": {},
   "outputs": [],
   "source": [
    "def runVisR2D(radius=3):\n",
    "    \"\"\"Runs simulator visual with defaults\"\"\"\n",
    "    fig = plt.figure(figsize=(4,4))\n",
    "    ax = fig.add_subplot()\n",
    "    ax.plot(0, 0, 'go')\n",
    "    ax.set_aspect('equal')\n",
    "    ax.grid()\n",
    "    ax.set_xticks(list(range(-radius,radius+1)))\n",
    "    ax.set_yticks(list(range(-radius,radius+1)))\n",
    "    steps = 0\n",
    "    x = 0\n",
    "    y = 0\n",
    "    while x in range(-radius+1,radius) and y in range(-radius+1,radius):\n",
    "        steps += 1\n",
    "        # print(f\"x is {x} and y is {y}\")\n",
    "        a,b = move2D()\n",
    "        # print(f\"Moving {a} by {b} units\")\n",
    "        if a == \"vertical\":\n",
    "            ax.quiver(x,y,0,b, angles='xy', scale_units='xy', scale=1, color='blue')\n",
    "            y += b\n",
    "        elif a == \"horizontal\":\n",
    "            ax.quiver(x,y,b,0, angles='xy', scale_units='xy', scale=1, color='blue')\n",
    "            x += b\n",
    "        plt.plot(x, y, 'ro')\n",
    "        # print(f\"Now x is {x} and y is {y}\")\n",
    "        print(f\"Frog has hopped {steps} times(s)\")\n",
    "        ax.set_aspect('equal')\n",
    "        ax.set_xticks(list(range(-radius,radius+1)))\n",
    "        ax.set_yticks(list(range(-radius,radius+1)))\n",
    "        display.display(plt.gcf())\n",
    "        display.clear_output(wait=True)  \n",
    "        time.sleep(0.5)\n",
    "\n",
    "    print(f\"Ended at ({x}, {y})\")\n",
    "    print(f\"Frog has hopped {steps} time(s) total\")"
   ]
  },
  {
   "cell_type": "code",
   "execution_count": null,
   "metadata": {},
   "outputs": [],
   "source": [
    "def runSimR2D(radius,runs=100):\n",
    "    \"\"\"Collects data on one case\"\"\"\n",
    "\n",
    "    Data = []\n",
    "\n",
    "    for i in range(runs):\n",
    "        hops = stepsPerRunR2D(radius)\n",
    "        Data += [hops]\n",
    "\n",
    "    ArrayData = np.asarray(Data)\n",
    "    plot = sns.displot(x=ArrayData,kind=\"kde\")\n",
    "    # plot = sns.countplot(x=ArrayData)\n",
    "    plot.set(xlabel='Number of Hops', ylabel='Frequency', title=f\"Frog Hopping on a {radius}x{radius} Grid\")\n",
    "    plt.show()\n",
    "    print(f\"Experiment run on a {radius}x{radius} grid with frog starting at (0,0)\")\n",
    "    print(f\"The mean number of hops was {np.mean(Data)}\")\n",
    "    print(f\"The median number of hops was {np.median(Data)}\")\n",
    "    print(f\"The most common number of hops was {int(stats.mode(Data)[0])} (frequency = {int(stats.mode(Data)[1])}/{runs})\")\n",
    "    print(f\"The largest number of hops was {np.amax(Data)}\")\n",
    "    print(f\"The smallest number of hops was {np.amin(Data)}\")"
   ]
  },
  {
   "cell_type": "code",
   "execution_count": null,
   "metadata": {},
   "outputs": [],
   "source": [
    "def runSimMeanR2D(radius,runs=100):\n",
    "    \"\"\"Returns the mean number of hops for given parameters\"\"\"\n",
    "\n",
    "    Data = []\n",
    "\n",
    "    for i in range(runs):\n",
    "        hops = stepsPerRunR2D(radius)\n",
    "        Data += [hops]\n",
    "\n",
    "    ArrayData = np.asarray(Data)\n",
    "    # print(f\"Experiment run on a {xBound}x{yBound} grid with frog starting at ({x},{y})\")\n",
    "    # print(f\"The mean number of hops was {np.mean(Data)}\")\n",
    "    \n",
    "    return np.mean(Data)"
   ]
  },
  {
   "cell_type": "code",
   "execution_count": null,
   "metadata": {},
   "outputs": [],
   "source": [
    "def aggregateMeanR2D(radius):\n",
    "    A = np.empty(radius)\n",
    "    for i in range(1,radius+1):\n",
    "        mean = runSimMeanR2D(i)\n",
    "        A[i-1] = mean\n",
    "    return A"
   ]
  },
  {
   "cell_type": "code",
   "execution_count": null,
   "metadata": {},
   "outputs": [],
   "source": [
    "def everyPointGraphR2D(radius=10):\n",
    "    \"\"\"Shows the mean number of hops needed when starting \n",
    "       at a given point as a lineplot\"\"\"\n",
    "    \n",
    "    array = aggregateMeanR2D(radius)\n",
    "    x=list(range(1,radius+1))\n",
    "    fig, ax = plt.subplots(figsize=(6,6))\n",
    "    plot = sns.lineplot(x=x, y=array)\n",
    "    plot.set(title=\"Number of Hops as a Function of Grid Radius\\n\",xlabel='Radius',ylabel='Mean # of Hops')\n",
    "    fit = sns.lineplot(x=x, y=[n**2 for n in x])\n",
    "    ax.legend(['Simulated', 'x^2'])\n",
    "    plt.show()"
   ]
  },
  {
   "cell_type": "code",
   "execution_count": null,
   "metadata": {},
   "outputs": [],
   "source": [
    "runSimR2D(3)"
   ]
  },
  {
   "cell_type": "code",
   "execution_count": null,
   "metadata": {},
   "outputs": [],
   "source": [
    "everyPointGraphR2D(20)"
   ]
  },
  {
   "cell_type": "markdown",
   "metadata": {},
   "source": [
    "## Random Walks in 3D: \"Classic\""
   ]
  },
  {
   "cell_type": "code",
   "execution_count": null,
   "metadata": {},
   "outputs": [],
   "source": [
    "def move3D():\n",
    "    \"\"\"Gives change in coordinates after one hop\"\"\"\n",
    "    \n",
    "    a = random.choice(['x','y','z'])\n",
    "    b = random.choice([-1,1])\n",
    "    return a,b"
   ]
  },
  {
   "cell_type": "code",
   "execution_count": null,
   "metadata": {},
   "outputs": [],
   "source": [
    "def stepsPerRunR3D(radius):\n",
    "    \"\"\"Runs one simulation with the given parameters.\n",
    "       Returns steps needed to complete simulation\"\"\"\n",
    "    steps = 0\n",
    "    x = 0\n",
    "    y = 0\n",
    "    z = 0\n",
    "    while x in range(-radius+1,radius) and y in range(-radius+1,radius) and z in range(-radius+1,radius):\n",
    "        a,b = move3D()\n",
    "        if a == \"x\":\n",
    "            x += b\n",
    "        elif a == \"y\":\n",
    "            y += b\n",
    "        elif a == \"z\":\n",
    "            z += b\n",
    "        steps += 1\n",
    "    return steps"
   ]
  },
  {
   "cell_type": "code",
   "execution_count": null,
   "metadata": {},
   "outputs": [],
   "source": [
    "def runSimR3D(radius,runs=100):\n",
    "    \"\"\"Collects data on one case\"\"\"\n",
    "\n",
    "    Data = []\n",
    "\n",
    "    for i in range(runs):\n",
    "        hops = stepsPerRunR3D(radius)\n",
    "        Data += [hops]\n",
    "\n",
    "    ArrayData = np.asarray(Data)\n",
    "    plot = sns.displot(x=ArrayData,kind=\"kde\")\n",
    "    # plot = sns.countplot(x=ArrayData)\n",
    "    plot.set(xlabel='Number of Hops', ylabel='Frequency', title=f\"Frog Hopping in {radius}x{radius}x{radius} Space!\")\n",
    "    plt.show()\n",
    "    print(f\"Experiment run on a {radius}x{radius} grid with frog starting at (0,0,0)\")\n",
    "    print(f\"The mean number of hops was {np.mean(Data)}\")\n",
    "    print(f\"The median number of hops was {np.median(Data)}\")\n",
    "    print(f\"The most common number of hops was {int(stats.mode(Data)[0])} (frequency = {int(stats.mode(Data)[1])}/{runs})\")\n",
    "    print(f\"The largest number of hops was {np.amax(Data)}\")\n",
    "    print(f\"The smallest number of hops was {np.amin(Data)}\")"
   ]
  },
  {
   "cell_type": "code",
   "execution_count": null,
   "metadata": {},
   "outputs": [],
   "source": [
    "def runSimMeanR3D(radius,runs=100):\n",
    "    \"\"\"Returns the mean number of hops for given parameters\"\"\"\n",
    "    Data = []\n",
    "    for i in range(runs):\n",
    "        hops = stepsPerRunR3D(radius)\n",
    "        Data += [hops]\n",
    "    return np.mean(Data)"
   ]
  },
  {
   "cell_type": "code",
   "execution_count": null,
   "metadata": {},
   "outputs": [],
   "source": [
    "def aggregateMeanR3D(radius):\n",
    "    A = np.empty(radius)\n",
    "    for i in range(1,radius+1):\n",
    "        mean = runSimMeanR3D(i)\n",
    "        A[i-1] = mean\n",
    "    return A"
   ]
  },
  {
   "cell_type": "code",
   "execution_count": null,
   "metadata": {},
   "outputs": [],
   "source": [
    "def everyPointGraphR3D(radius=15):\n",
    "    \"\"\"Shows the mean number of hops needed when starting \n",
    "       at a given point as a lineplot\"\"\"\n",
    "    \n",
    "    array = aggregateMeanR3D(radius)\n",
    "    x=list(range(1,radius+1))\n",
    "    fig, ax = plt.subplots(figsize=(6,6))\n",
    "    plot = sns.lineplot(x=x, y=array)\n",
    "    plot.set(title=\"Number of Hops as a Function of Space Radius\\n\",xlabel='Radius',ylabel='Mean # of Hops')\n",
    "    fit = sns.lineplot(x=x, y=[n**2 for n in x])\n",
    "    ax.legend(['Simulated', 'x^2'])\n",
    "    plt.show()"
   ]
  },
  {
   "cell_type": "code",
   "execution_count": null,
   "metadata": {},
   "outputs": [],
   "source": [
    "runSimR3D(5)"
   ]
  },
  {
   "cell_type": "code",
   "execution_count": null,
   "metadata": {},
   "outputs": [],
   "source": [
    "everyPointGraphR3D(radius=15)"
   ]
  },
  {
   "cell_type": "markdown",
   "metadata": {},
   "source": [
    "# And beyond!"
   ]
  },
  {
   "cell_type": "code",
   "execution_count": null,
   "metadata": {},
   "outputs": [],
   "source": [
    "def moveND(n):\n",
    "    \"\"\"Gives change in coordinates after one hop\"\"\"\n",
    "    \n",
    "    a = random.choice([f'x_{n}' for n in range(1,n+1)])\n",
    "    b = random.choice([-1,1])\n",
    "    return a,b"
   ]
  },
  {
   "cell_type": "code",
   "execution_count": null,
   "metadata": {},
   "outputs": [],
   "source": [
    "def stepsPerRunND(n,radius):\n",
    "    \"\"\"Runs one simulation with the given parameters.\n",
    "       Returns steps needed to complete simulation\"\"\"\n",
    "    \n",
    "    steps = 0\n",
    "    coordD = {}\n",
    "    \n",
    "    for dim in range(1,n+1):\n",
    "        coordD[f\"x_{dim}\"] = 0\n",
    "        \n",
    "    while radius not in coordD.values() and -radius not in coordD.values():\n",
    "        a,b = moveND(n)\n",
    "        coordD[a] += b\n",
    "        steps += 1\n",
    "    return steps"
   ]
  },
  {
   "cell_type": "code",
   "execution_count": null,
   "metadata": {},
   "outputs": [],
   "source": [
    "stepsPerRunND(1, 10)"
   ]
  },
  {
   "cell_type": "code",
   "execution_count": null,
   "metadata": {},
   "outputs": [],
   "source": [
    "def runSimND(n,radius,runs=100):\n",
    "    \"\"\"Collects data on one case\"\"\"\n",
    "\n",
    "    Data = []\n",
    "\n",
    "    for i in range(runs):\n",
    "        hops = stepsPerRunND(n,radius)\n",
    "        Data += [hops]\n",
    "\n",
    "    ArrayData = np.asarray(Data)\n",
    "    plot = sns.displot(x=ArrayData,kind=\"kde\")\n",
    "    # plot = sns.countplot(x=ArrayData)\n",
    "    plot.set(xlabel='Number of Hops', ylabel='Frequency', title=f\"Frog Hopping in {n}-D Space With Radius {radius}!\")\n",
    "    plt.show()\n",
    "    print(f\"Experiment run in {n}-D space with radius {radius} and frog starting at the origin\")\n",
    "    print(f\"The mean number of hops was {np.mean(Data)}\")\n",
    "    print(f\"The median number of hops was {np.median(Data)}\")\n",
    "    print(f\"The most common number of hops was {int(stats.mode(Data)[0])} (frequency = {int(stats.mode(Data)[1])}/{runs})\")\n",
    "    print(f\"The largest number of hops was {np.amax(Data)}\")\n",
    "    print(f\"The smallest number of hops was {np.amin(Data)}\")"
   ]
  },
  {
   "cell_type": "code",
   "execution_count": null,
   "metadata": {},
   "outputs": [],
   "source": [
    "def runSimMeanND(n,radius,runs=100):\n",
    "    \"\"\"Collects data on one case\"\"\"\n",
    "    Data = []\n",
    "    for i in range(runs):\n",
    "        hops = stepsPerRunND(n,radius)\n",
    "        Data += [hops]\n",
    "    return np.mean(Data)"
   ]
  },
  {
   "cell_type": "code",
   "execution_count": null,
   "metadata": {},
   "outputs": [],
   "source": [
    "def aggregateMeanND(n,radius):\n",
    "    A = np.empty(radius)\n",
    "    for i in range(1,radius+1):\n",
    "        mean = runSimMeanND(n,i)\n",
    "        A[i-1] = mean\n",
    "    return A"
   ]
  },
  {
   "cell_type": "code",
   "execution_count": null,
   "metadata": {},
   "outputs": [],
   "source": [
    "def everyPointGraphND(n,radius=10):\n",
    "    \"\"\"Shows the mean number of hops needed when starting \n",
    "       at a given point as a lineplot\"\"\"\n",
    "    \n",
    "    array = aggregateMeanND(n,radius)\n",
    "    x=list(range(1,radius+1))\n",
    "    fig, ax = plt.subplots(figsize=(6,6))\n",
    "    plot = sns.lineplot(x=x, y=array)\n",
    "    plot.set(title=f\"Number of Hops as a Function of {n}-D Space Radius\\n\",xlabel='Radius',ylabel='Mean # of Hops')\n",
    "    fit = sns.lineplot(x=x, y=[i**2 for i in x])\n",
    "    ax.legend(['Simulated', 'x^2'])\n",
    "    plt.show()"
   ]
  },
  {
   "cell_type": "code",
   "execution_count": null,
   "metadata": {},
   "outputs": [],
   "source": [
    "runSimND(5,5)"
   ]
  },
  {
   "cell_type": "code",
   "execution_count": null,
   "metadata": {},
   "outputs": [],
   "source": [
    "everyPointGraphND(5,radius=10)"
   ]
  },
  {
   "cell_type": "markdown",
   "metadata": {},
   "source": [
    "# Putting it All Together!"
   ]
  },
  {
   "cell_type": "code",
   "execution_count": null,
   "metadata": {},
   "outputs": [],
   "source": [
    "def fixedR(n,radius,runs=100):\n",
    "    \"\"\"Collects data for a fixed radius in different n-spaces\"\"\"\n",
    "    Data = []\n",
    "    for dim in range(1,n+1):\n",
    "        dimL = []\n",
    "        for i in range(runs):\n",
    "            hops = stepsPerRunND(dim,radius)\n",
    "            dimL += [hops]\n",
    "        # print(f\"The average is {np.average(np.asarray(dimL))}\")\n",
    "        Data += [dimL]\n",
    "        # print(f\"Data for dimension {dim} is {dimL[:20]} with average {np.average(np.asarray(dimL))}\")\n",
    "    \n",
    "    fig = plt.figure(figsize=(8,8))\n",
    "    ax = plt.subplot()\n",
    "    ax.grid()\n",
    "    ax.set(xlabel='Number of Hops', ylabel='Frequency', title=f\"Frog Hopping in n-D Space With Fixed Radius {radius}\\n\")\n",
    "\n",
    "    for dim in range(len(Data)):\n",
    "        sns.kdeplot(data=Data[dim],ax=ax)\n",
    "    \n",
    "    legendL = []\n",
    "    for dim in range(1,len(Data)+2):\n",
    "        legendL += [f\"{dim}-D\"]\n",
    "    ax.legend(legendL)\n",
    "    plt.show()"
   ]
  },
  {
   "cell_type": "code",
   "execution_count": null,
   "metadata": {},
   "outputs": [],
   "source": [
    "fixedR(15,10,runs=500)"
   ]
  },
  {
   "cell_type": "code",
   "execution_count": null,
   "metadata": {},
   "outputs": [],
   "source": [
    "def meansND(n,radius=10):\n",
    "    \"\"\"Shows the mean number of hops needed:\n",
    "       loops over dimensions and radius to return \n",
    "       multi-line plot\"\"\"\n",
    "    \n",
    "    fig = plt.figure(figsize=(8,8))\n",
    "    ax = plt.subplot()\n",
    "    ax.grid()\n",
    "    ax.set(xlabel='Radius', ylabel='Mean # of Hops', title=f\"Frog Hopping in n-D Space: Mean Hops\\n\")\n",
    "\n",
    "    Data = []\n",
    "    x = list(range(1,radius+1))\n",
    "    \n",
    "    for dim in range(1,n+1):\n",
    "        Data += [aggregateMeanND(dim,radius)]\n",
    "            \n",
    "    for dim in range(len(Data)):\n",
    "        sns.lineplot(x=x,y=Data[dim],ax=ax)\n",
    "    \n",
    "    legendL = []\n",
    "    for dim in range(1,len(Data)+2):\n",
    "        legendL += [f\"{dim}-D\"]\n",
    "   \n",
    "    quad = sns.lineplot(x=x, y=[n**2 for n in x])\n",
    "    ax.legend(legendL + [\"x^2\"])\n",
    "    plt.show()"
   ]
  },
  {
   "cell_type": "code",
   "execution_count": null,
   "metadata": {},
   "outputs": [],
   "source": [
    "meansND(10)"
   ]
  },
  {
   "cell_type": "markdown",
   "metadata": {},
   "source": [
    "# Animations!\n",
    "## Two Dimensions"
   ]
  },
  {
   "cell_type": "code",
   "execution_count": null,
   "metadata": {},
   "outputs": [],
   "source": [
    "def move2D():\n",
    "    \"\"\"Gives change in coordinates after one hop\"\"\"\n",
    "    \n",
    "    a = random.choice(['vertical','horizontal'])\n",
    "    b = random.choice([-1,1])\n",
    "    return a,b"
   ]
  },
  {
   "cell_type": "code",
   "execution_count": null,
   "metadata": {},
   "outputs": [],
   "source": [
    "def oneRun2D(radius):\n",
    "    \"\"\"Runs one simulation with the given parameters.\n",
    "       Returns coordinates as a list\"\"\"\n",
    "    x = 0\n",
    "    y = 0\n",
    "    coordL = [(0,0)]\n",
    "    while x in range(-radius+1,radius) and y in range(-radius+1,radius):\n",
    "        a,b = move2D()\n",
    "        if a == \"vertical\":\n",
    "            y += b\n",
    "        elif a == \"horizontal\":\n",
    "            x += b\n",
    "        coordL += [(x,y)]\n",
    "    return coordL"
   ]
  },
  {
   "cell_type": "code",
   "execution_count": null,
   "metadata": {},
   "outputs": [],
   "source": [
    "# Parameters\n",
    "radius = 10\n",
    "coordL = oneRun2D(radius)\n",
    "\n",
    "# Make initial plot\n",
    "fig = plt.figure(figsize=(8,8))\n",
    "ax = plt.subplot()\n",
    "ax.set_aspect('equal')\n",
    "ax.grid()\n",
    "ax.set_xlim(-radius,radius)\n",
    "ax.set_ylim(-radius,radius)\n",
    "ax.set_xticks(list(range(-radius,radius+1)))\n",
    "ax.set_yticks(list(range(-radius,radius+1)))\n",
    "ax.tick_params(axis='x', colors=(0,0,0,0))\n",
    "ax.tick_params(axis='y', colors=(0,0,0,0))  \n",
    "    \n",
    "# update this in function below\n",
    "title = ax.set_title('')\n",
    "point, = ax.plot([],[], 'go')\n",
    "color = random.choice(['b','g','r','c','m','y'])\n",
    "line, = ax.plot([],[],color)"
   ]
  },
  {
   "cell_type": "code",
   "execution_count": null,
   "metadata": {},
   "outputs": [],
   "source": [
    "def draw2D(n,coordL,radius=3):\n",
    "    \"\"\"Runs simulator visual with defaults\"\"\"\n",
    "    \n",
    "    title.set_text(f\"The Frog's Journey: Frame {n}\")\n",
    "    point.set_data(coordL[n][0],coordL[n][1])\n",
    "    xLine = [coordL[i][0] for i in range(n+1)]\n",
    "    yLine = [coordL[i][1] for i in range(n+1)]\n",
    "    line.set_data(xLine,yLine)\n",
    "    return (line,)"
   ]
  },
  {
   "cell_type": "code",
   "execution_count": null,
   "metadata": {},
   "outputs": [],
   "source": [
    "anim2D = animation.FuncAnimation(fig, draw2D, frames=len(coordL), fargs=(coordL,), interval=100, repeat=False, blit=True)"
   ]
  },
  {
   "cell_type": "code",
   "execution_count": null,
   "metadata": {},
   "outputs": [],
   "source": [
    "# equivalent to rcParams['animation.html'] = 'html5'\n",
    "rc('animation', html='html5')"
   ]
  },
  {
   "cell_type": "markdown",
   "metadata": {},
   "source": [
    "## Three Dimensions"
   ]
  },
  {
   "cell_type": "code",
   "execution_count": null,
   "metadata": {},
   "outputs": [],
   "source": [
    "def move3D():\n",
    "    \"\"\"Gives change in coordinates after one hop\"\"\"\n",
    "    \n",
    "    a = random.choice(['x','y','z'])\n",
    "    b = random.choice([-1,1])\n",
    "    return a,b"
   ]
  },
  {
   "cell_type": "code",
   "execution_count": null,
   "metadata": {},
   "outputs": [],
   "source": [
    "def oneRun3D(radius):\n",
    "    \"\"\"Runs one simulation with the given parameters.\n",
    "       Returns coordinates as a list\"\"\"\n",
    "    x = 0\n",
    "    y = 0\n",
    "    z = 0\n",
    "    coordL = [(0,0,0)]\n",
    "    while x in range(-radius+1,radius) and y in range(-radius+1,radius) and z in range(-radius+1,radius):\n",
    "        a,b = move3D()\n",
    "        if a == \"x\":\n",
    "            x += b\n",
    "        elif a == \"y\":\n",
    "            y += b\n",
    "        elif a == \"z\":\n",
    "            z += b\n",
    "        coordL += [(x,y,z)]\n",
    "    return coordL"
   ]
  },
  {
   "cell_type": "code",
   "execution_count": null,
   "metadata": {},
   "outputs": [],
   "source": [
    "def generateLine3D(coordL):\n",
    "    \"\"\"Makes the line data from given coordinate data\"\"\"\n",
    "    line_data = np.empty((3, len(coordL)))   # create array\n",
    "    line_data[:, 0] = np.asarray(coordL[0])    # start at origin\n",
    "    for i in range(1, len(coordL)):\n",
    "        step = np.asarray(coordL[i])\n",
    "        line_data[:, i] = step\n",
    "    return line_data"
   ]
  },
  {
   "cell_type": "code",
   "execution_count": null,
   "metadata": {},
   "outputs": [],
   "source": [
    "def draw3D(n,data_lines,lines):\n",
    "    \"\"\"Runs simulator visual with defaults\"\"\"\n",
    "    \n",
    "    title.set_text(f\"The Frog's Journey: Frame {n}\\n\\n\")\n",
    "    for line, data in zip(lines, data_lines):\n",
    "        # NOTE: there is no .set_data() for 3 dim data...\n",
    "        line.set_data(data[0:2, :n])\n",
    "        line.set_3d_properties(data[2, :n])\n",
    "    return lines"
   ]
  },
  {
   "cell_type": "code",
   "execution_count": null,
   "metadata": {},
   "outputs": [],
   "source": [
    "# Parameters\n",
    "radius = 10\n",
    "coordL = oneRun3D(radius)\n",
    "\n",
    "# Make initial plot\n",
    "fig = plt.figure(figsize=(7,7))\n",
    "ax = fig.add_subplot(projection='3d')\n",
    "ax.set_xlim(-radius,radius)\n",
    "ax.set_ylim(-radius,radius)\n",
    "ax.set_zlim(-radius,radius)\n",
    "ax.set_xticks(list(range(-radius,radius+1)))\n",
    "ax.set_yticks(list(range(-radius,radius+1)))\n",
    "ax.set_zticks(list(range(-radius,radius+1)))\n",
    "ax.tick_params(axis='x', colors=(0,0,0,0))\n",
    "ax.tick_params(axis='y', colors=(0,0,0,0))  \n",
    "ax.tick_params(axis='z', colors=(0,0,0,0))  \n",
    "    \n",
    "# update this in function below\n",
    "title = ax.set_title('')\n",
    "color = random.choice(['b','g','r','c','m','y'])\n",
    "data = [generateLine3D(coordL)]\n",
    "lines = [ax.plot(dat[0, 0:1], dat[1, 0:1], dat[2, 0:1])[0] for dat in data]"
   ]
  },
  {
   "cell_type": "code",
   "execution_count": null,
   "metadata": {},
   "outputs": [],
   "source": [
    "# equivalent to rcParams['animation.html'] = 'html5'\n",
    "rc('animation', html='html5')"
   ]
  },
  {
   "cell_type": "code",
   "execution_count": null,
   "metadata": {},
   "outputs": [],
   "source": [
    "anim3D = animation.FuncAnimation(fig, draw3D, frames=len(coordL), fargs=(data,lines), interval=100, repeat=False, blit=True)"
   ]
  },
  {
   "cell_type": "code",
   "execution_count": null,
   "metadata": {},
   "outputs": [],
   "source": [
    "everyPointGraphRAll(20)"
   ]
  },
  {
   "cell_type": "code",
   "execution_count": null,
   "metadata": {},
   "outputs": [],
   "source": [
    "anim2D"
   ]
  },
  {
   "cell_type": "code",
   "execution_count": null,
   "metadata": {
    "scrolled": false
   },
   "outputs": [],
   "source": [
    "everyPointGraph2D(20,20)"
   ]
  },
  {
   "cell_type": "code",
   "execution_count": null,
   "metadata": {},
   "outputs": [],
   "source": [
    "anim3D"
   ]
  },
  {
   "cell_type": "code",
   "execution_count": null,
   "metadata": {},
   "outputs": [],
   "source": [
    "fixedR(10,10,runs=50)"
   ]
  },
  {
   "cell_type": "code",
   "execution_count": null,
   "metadata": {},
   "outputs": [],
   "source": [
    "meansND(10, 15)"
   ]
  },
  {
   "cell_type": "code",
   "execution_count": null,
   "metadata": {},
   "outputs": [],
   "source": []
  }
 ],
 "metadata": {
  "kernelspec": {
   "display_name": "Python 3",
   "language": "python",
   "name": "python3"
  },
  "language_info": {
   "codemirror_mode": {
    "name": "ipython",
    "version": 3
   },
   "file_extension": ".py",
   "mimetype": "text/x-python",
   "name": "python",
   "nbconvert_exporter": "python",
   "pygments_lexer": "ipython3",
   "version": "3.8.3"
  }
 },
 "nbformat": 4,
 "nbformat_minor": 4
}
