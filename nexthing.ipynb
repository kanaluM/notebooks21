{
 "cells": [
  {
   "cell_type": "code",
   "execution_count": null,
   "metadata": {},
   "outputs": [],
   "source": [
    "%matplotlib inline\n",
    "\n",
    "import numpy as np\n",
    "import matplotlib.pyplot as plt\n",
    "import seaborn as sns\n",
    "\n",
    "# create a figure and axes\n",
    "fig = plt.figure(figsize=(12,5))\n",
    "ax1 = plt.subplot(1,2,1)   \n",
    "ax2 = plt.subplot(1,2,2)\n",
    "\n",
    "# set up the subplots as needed\n",
    "ax1.set_xlim(( 0, 2))            \n",
    "ax1.set_ylim((-2, 2))\n",
    "ax1.set_xlabel('Time')\n",
    "ax1.set_ylabel('Magnitude')\n",
    "\n",
    "ax2.set_xlim((-2,2))\n",
    "ax2.set_ylim((-2,2))\n",
    "ax2.set_xlabel('X')\n",
    "ax2.set_ylabel('Y')\n",
    "ax2.set_title('Phase Plane')\n",
    "\n",
    "# create objects that will change in the animation. These are\n",
    "# initially empty, and will be given new values for each frame\n",
    "# in the animation.\n",
    "txt_title = ax1.set_title('')\n",
    "line1, = ax1.plot([], [], 'b', lw=2)     # ax.plot returns a list of 2D line objects\n",
    "line2, = ax1.plot([], [], 'r', lw=2)\n",
    "pt1, = ax2.plot([], [], 'g.', ms=20)\n",
    "line3, = ax2.plot([], [], 'y', lw=2)\n",
    "\n",
    "ax1.legend(['sin','cos']);"
   ]
  },
  {
   "cell_type": "code",
   "execution_count": null,
   "metadata": {},
   "outputs": [],
   "source": [
    "# animation function. This is called sequentially\n",
    "def drawframe(n):\n",
    "    x = np.linspace(0, 2, 1000)\n",
    "    y1 = np.sin(2 * np.pi * (x - 0.01 * n))\n",
    "    y2 = np.cos(2 * np.pi * (x - 0.01 * n))\n",
    "    line1.set_data(x, y1)\n",
    "    line2.set_data(x, y2)\n",
    "    line3.set_data(y1[0:50],y2[0:50])\n",
    "    pt1.set_data(y1[0],y2[0])\n",
    "    txt_title.set_text('Frame = {0:4d}'.format(n))\n",
    "    return (line1,line2)"
   ]
  },
  {
   "cell_type": "code",
   "execution_count": null,
   "metadata": {},
   "outputs": [],
   "source": [
    "from matplotlib import animation\n",
    "\n",
    "# blit=True re-draws only the parts that have changed.\n",
    "anim = animation.FuncAnimation(fig, drawframe, frames=100, interval=20, blit=True)"
   ]
  },
  {
   "cell_type": "code",
   "execution_count": null,
   "metadata": {},
   "outputs": [],
   "source": [
    "from matplotlib import rc\n",
    "\n",
    "# equivalent to rcParams['animation.html'] = 'html5'\n",
    "rc('animation', html='html5')"
   ]
  },
  {
   "cell_type": "code",
   "execution_count": null,
   "metadata": {},
   "outputs": [],
   "source": [
    "import matplotlib as mpl\n",
    "mpl.rcParams['animation.writer'] = 'avconv'"
   ]
  },
  {
   "cell_type": "code",
   "execution_count": null,
   "metadata": {},
   "outputs": [],
   "source": [
    "anim"
   ]
  },
  {
   "cell_type": "code",
   "execution_count": null,
   "metadata": {},
   "outputs": [],
   "source": [
    "# Fixing random state for reproducibility\n",
    "np.random.seed(19680801)\n",
    "\n",
    "\n",
    "def gen_rand_line(length, dims=2):\n",
    "    \"\"\"\n",
    "    Create a line using a random walk algorithm.\n",
    "\n",
    "    Parameters\n",
    "    ----------\n",
    "    length : int\n",
    "        The number of points of the line.\n",
    "    dims : int\n",
    "        The number of dimensions of the line.\n",
    "    \"\"\"\n",
    "    line_data = np.empty((dims, length))\n",
    "    line_data[:, 0] = np.random.rand(dims)\n",
    "    for index in range(1, length):\n",
    "        # scaling the random numbers by 0.1 so\n",
    "        # movement is small compared to position.\n",
    "        # subtraction by 0.5 is to change the range to [-0.5, 0.5]\n",
    "        # to allow a line to move backwards.\n",
    "        step = (np.random.rand(dims) - 0.5) * 0.1\n",
    "        line_data[:, index] = line_data[:, index - 1] + step\n",
    "    return line_data\n",
    "\n",
    "\n",
    "def update_lines(num, data_lines, lines):\n",
    "    for line, data in zip(lines, data_lines):\n",
    "        # NOTE: there is no .set_data() for 3 dim data...\n",
    "        line.set_data(data[0:2, :num])\n",
    "        line.set_3d_properties(data[2, :num])\n",
    "    return lines\n",
    "\n",
    "\n",
    "# Attaching 3D axis to the figure\n",
    "fig = plt.figure()\n",
    "ax = fig.add_subplot(projection=\"3d\")\n",
    "\n",
    "# Fifty lines of random 3-D lines\n",
    "data = [gen_rand_line(25, 3) for index in range(50)]\n",
    "\n",
    "# Creating fifty line objects.\n",
    "# NOTE: Can't pass empty arrays into 3d version of plot()\n",
    "lines = [ax.plot(dat[0, 0:1], dat[1, 0:1], dat[2, 0:1])[0] for dat in data]\n",
    "\n",
    "# Setting the axes properties\n",
    "ax.set_xlim3d([0.0, 1.0])\n",
    "ax.set_xlabel('X')\n",
    "\n",
    "ax.set_ylim3d([0.0, 1.0])\n",
    "ax.set_ylabel('Y')\n",
    "\n",
    "ax.set_zlim3d([0.0, 1.0])\n",
    "ax.set_zlabel('Z')\n",
    "\n",
    "ax.set_title('3D Test')\n",
    "\n",
    "# Creating the Animation object\n",
    "line_ani = animation.FuncAnimation(\n",
    "    fig, update_lines, 50, fargs=(data, lines), interval=50)\n",
    "\n",
    "plt.show()"
   ]
  },
  {
   "cell_type": "code",
   "execution_count": null,
   "metadata": {},
   "outputs": [],
   "source": [
    "line_ani"
   ]
  },
  {
   "cell_type": "code",
   "execution_count": null,
   "metadata": {},
   "outputs": [],
   "source": [
    "import random\n",
    "def move2D():\n",
    "    \"\"\"Gives change in coordinates after one hop\"\"\"\n",
    "    \n",
    "    a = random.choice(['vertical','horizontal'])\n",
    "    b = random.choice([-1,1])\n",
    "    return a,b"
   ]
  },
  {
   "cell_type": "code",
   "execution_count": null,
   "metadata": {},
   "outputs": [],
   "source": [
    "def oneRun(radius):\n",
    "    \"\"\"Runs one simulation with the given parameters.\n",
    "       Returns coordinates as a list\"\"\"\n",
    "    x = 0\n",
    "    y = 0\n",
    "    coordL = [(0,0)]\n",
    "    while x in range(-radius+1,radius) and y in range(-radius+1,radius):\n",
    "        a,b = move2D()\n",
    "        if a == \"vertical\":\n",
    "            y += b\n",
    "        elif a == \"horizontal\":\n",
    "            x += b\n",
    "        coordL += [(x,y)]\n",
    "    return coordL"
   ]
  },
  {
   "cell_type": "code",
   "execution_count": null,
   "metadata": {},
   "outputs": [],
   "source": [
    "# Parameters\n",
    "radius = 15\n",
    "coordL = oneRun(radius)\n",
    "\n",
    "# Make initial plot\n",
    "fig = plt.figure(figsize=(8,8))\n",
    "ax = plt.subplot()\n",
    "ax.set_aspect('equal')\n",
    "ax.grid()\n",
    "ax.set_xlim(-radius,radius)\n",
    "ax.set_ylim(-radius,radius)\n",
    "ax.set_xticks(list(range(-radius,radius+1)))\n",
    "ax.set_yticks(list(range(-radius,radius+1)))\n",
    "\n",
    "# update this in function below\n",
    "title = ax.set_title('')\n",
    "point, = ax.plot([],[], 'go')\n",
    "line, = ax.plot([],[],'b')"
   ]
  },
  {
   "cell_type": "code",
   "execution_count": null,
   "metadata": {},
   "outputs": [],
   "source": [
    "def draw(n,coordL,radius=3):\n",
    "    \"\"\"Runs simulator visual with defaults\"\"\"\n",
    "    \n",
    "    title.set_text(f\"The Frog's Journey: Frame {n}\")\n",
    "    point.set_data(coordL[n][0],coordL[n][1])\n",
    "    xLine = [coordL[i][0] for i in range(n+1)]\n",
    "    yLine = [coordL[i][1] for i in range(n+1)]\n",
    "    line.set_data(xLine,yLine)\n",
    "    return (line,)"
   ]
  },
  {
   "cell_type": "code",
   "execution_count": null,
   "metadata": {},
   "outputs": [],
   "source": [
    "poo = animation.FuncAnimation(fig, draw, frames=len(coordL), fargs=(coordL,), interval=100, repeat=False, blit=True)"
   ]
  },
  {
   "cell_type": "code",
   "execution_count": null,
   "metadata": {},
   "outputs": [],
   "source": [
    "poo"
   ]
  },
  {
   "cell_type": "code",
   "execution_count": null,
   "metadata": {},
   "outputs": [],
   "source": []
  }
 ],
 "metadata": {
  "kernelspec": {
   "display_name": "Python 3",
   "language": "python",
   "name": "python3"
  },
  "language_info": {
   "codemirror_mode": {
    "name": "ipython",
    "version": 3
   },
   "file_extension": ".py",
   "mimetype": "text/x-python",
   "name": "python",
   "nbconvert_exporter": "python",
   "pygments_lexer": "ipython3",
   "version": "3.8.3"
  }
 },
 "nbformat": 4,
 "nbformat_minor": 4
}
