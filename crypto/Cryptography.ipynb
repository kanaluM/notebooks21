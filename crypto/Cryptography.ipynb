{
 "cells": [
  {
   "cell_type": "markdown",
   "metadata": {},
   "source": [
    "# Public Key Cryptography (RSA)\n",
    "\n",
    "Adapted from _Mathematics: A Discrete Introduction_ by Edward R. Scheinerman\n",
    "\n",
    "## The Problem\n",
    "\n",
    "Suppose Wally the Wart (Wally) is at Harvey Mudd College in Claremont California and the Three-Eyed Alien (TEA) is on the moon! TEA has discovered the Answer to the Ultimate Question of Life, the Universe, and Everything; and it's not 42!\n",
    "\n",
    "TEA desparately wants to tell Wally the _real_ answer, but there's a problem; their communications are being monitored by the dastardly picobot.\n",
    "\n",
    "**How can TEA and Wally communicate without picobot knowing the contents of their messages?**\n",
    "\n",
    "We don't want picobot to know the letters in a message. We might consider encrypting the letters somehow (ceasar cipher??). However, this would require Wally and TEA to already have some sort of key to the encryption. The problem is that they cannot communicate to create a key because picobot could intercept it!\n",
    "\n",
    "The key insight to RSA Key Cryptography is that _everyone_ knows _part_ of how it works! However, it is practically impossible for anyone to decrypt a message without knowing _all_ of how it works.\n",
    "\n",
    "The RSA system (named after its inventors R. Rivest, A. Shamir, and L. Adleman) does this by taking advantage of the difficulty of finding the prime factorization of large numbers!\n",
    "\n",
    "First, we must be able to convert letters to numbers and vice versa\n",
    "\n",
    "### Task #1\n",
    "\n",
    "Most characters (letters of the alphabet, numbers, kanji, etc) have some unique ASCII (American Standard Code for Information Interchange) designation number. \n",
    "- For example, the letter 'e' has number 101, the letter 'a' has number '97', and the letter 'r' has letter 114 (and yes capitalization makes a difference!). \n",
    "\n",
    "Our first step towards a solution is to convert strings to numbers and vice versa. Converting strings to numbers is easy, but converting numbers to strings requires a little more thought. Most important English characters can be represented as 2 or 3 digit numbers. For consistency, we will make every number a 3 digit number by adding leading zeroes\n",
    "- For example, the word 'ear' can be represented as the number '101097114' \n",
    "- NOT '10197114'\n",
    "\n",
    "Unfortunately, python does not allow integers to have leading zeroes... so let's create strings of numbers instead!\n",
    "\n",
    "Your first task is to write two functions: \n",
    "- `letterToNumber(string)` takes a string and converts it to a long number that holds the ASCII representations of the characters in the string. For example, 'ear' should become '101,097,114'\n",
    "\n",
    "- `numberToLetter(num)` does the reverse! It takes a long number that holds the ASCII representations of the characters in the string and converts it to a string. For example, '101,097,114' should become 'ear'"
   ]
  },
  {
   "cell_type": "code",
   "execution_count": null,
   "metadata": {},
   "outputs": [],
   "source": [
    "%pprint"
   ]
  },
  {
   "cell_type": "code",
   "execution_count": null,
   "metadata": {},
   "outputs": [],
   "source": [
    "# ord(letter) gives the ASCII number\n",
    "# chr(number) gives the ASCII letter\n",
    "def letterToNumber(string):\n",
    "    \"\"\"Converts a string into a long number based on ASCII.\n",
    "    Make sure that each number has three digits! \n",
    "    For example, 'a' should be '097', not '97'\"\"\"\n",
    "    \n",
    "    print(f\"Converting '{string}' to number...\")\n",
    "    codedMessage = ''                      # the number we will return\n",
    "    for s in string:                       # loop through string chrs\n",
    "        order = f\"{ord(s)}\"                # get the ASCII number\n",
    "        while len(order) < 3:               \n",
    "            order = '0' + order            # add leading 0s if needed\n",
    "        codedMessage += order              # add number for return\n",
    "    print(f\"Converted to {codedMessage}\\n\")\n",
    "    return codedMessage"
   ]
  },
  {
   "cell_type": "code",
   "execution_count": null,
   "metadata": {},
   "outputs": [],
   "source": [
    "def numberToLetter(num):\n",
    "    \"\"\"Converts a number into a string based on ASCII.\n",
    "    Make sure that you account for leading zeroes if needed!\n",
    "    Consider checking the length of the number...\"\"\"\n",
    "    \n",
    "    print(f\"Converting {num} to message...\")\n",
    "    codedMessage = ''             # the message we will return\n",
    "    for s in range(0,len(num),3):\n",
    "        character = chr(int(num[s:s+3]))\n",
    "        codedMessage += character\n",
    "    print(f\"Converted to '{codedMessage}'\\n\")\n",
    "    return codedMessage"
   ]
  },
  {
   "cell_type": "markdown",
   "metadata": {},
   "source": [
    "Once we have the string as a long number, what happens next? \n",
    "\n",
    "Well, he can create two functions - one to encrypt a large number E(M), and one to decrypt it D(N). He will then send the encryption function E(M) to TEA. TEA can encrypt the message M using the function E(M) and send the results N back to Wally. Wally can then use the decryption function D(N) to see the message M!\n",
    "\n",
    "Here's how it works:  \n",
    "\n",
    "|     Wally     |     picobot     |     TEA     |\n",
    "|:-------------:|:---------------:|:-----------:|\n",
    "| creates functions |             |             |\n",
    "| sends encryption to TEA --> | read by picobot| receives encryption|\n",
    "|  |             |  encrypts message  |\n",
    "| receives message | read by picobot| <-- sends message|\n",
    "|decrypts message  |             |  |\n",
    "\n",
    "We see that picobot will know the encryption function E(M) and will also know the encrypted message N. However, we want this to be insufficient to figure out the decrypted message!\n",
    "\n",
    "The goal is to create functions that satisfy the following conditions:\n",
    "- D(E(M)) = M; the functions are inverses!\n",
    "- It is difficult to create D even if you know E\n",
    "\n",
    "Here are the functions used in the RSA method:  \n",
    "- Encryption function: $E(M) = M^e \\text{ mod } n$  \n",
    "- Decryption function: $D(N) = N^d\\text{ mod } n$\n",
    "\n",
    "What does this mean?\n",
    "\n",
    "- $M$ is the decrypted message.  \n",
    "- $N$ is the encrypted message that TEA will send to Wally\n",
    "- $n$ is a very large number that is the product of two primes $p$ and $q$ (each hundreds of digits long)\n",
    "- \"mod\" is simply a mathematical function (used in modular arithmetic) that is equivalent to finding the remainder of a number when doing division. For example, 5 divided by 2 leaves a remainder of 1, so we say that 5 = 1 mod 2\n",
    "- The numbers $e$ and $d$ are chosen in a special way, but we won't go into the details... Feel free to return to this problem in Math55!\n",
    "\n",
    "The point is that $n$ is a really large number with only two very large prime factors. In order to crack the code, picobot would need to be able to factor $n$. This is not yet feasible with modern technology...\n",
    "\n",
    "Let's try it out! \n",
    "\n",
    "Below is a function that helps find $e$ and $d$. For the interested, it's the euclidean algorithm! Either way, run the cells below..."
   ]
  },
  {
   "cell_type": "code",
   "execution_count": null,
   "metadata": {},
   "outputs": [],
   "source": [
    "# Euclidean Algorithm\n",
    "def euclidAl(a,b):\n",
    "    \"\"\"Performs the Euclidean Algorithm on two numbers\"\"\"\n",
    "    # find greatest common denominator\n",
    "    num1 = a\n",
    "    num2 = b\n",
    "    eqt = []\n",
    "    r = 42\n",
    "    while r != 0:\n",
    "        q = num1 // num2 # quotient\n",
    "        r = num1 % num2  # remainder\n",
    "        eqt += [[num1,q,num2,r]]\n",
    "        num1 = num2\n",
    "        num2 = r\n",
    "    L = eqt[:-1]   # list of equations to find linear combo\n",
    "    # print(f\"The greatest common denominator of {a} and {b} is {L[-1][-1]}\")\n",
    "    # if L[-1][-1] == 1:\n",
    "        # print(f\"{a} and {b} are relatively prime!\")\n",
    "    # print()\n",
    "    # format lists nicely to find linear combo\n",
    "    if L == []:\n",
    "        if a >= b:\n",
    "            return (b,[])\n",
    "        else:\n",
    "            return (a,[])\n",
    "        \n",
    "    revL = []\n",
    "    for x in L:\n",
    "        remSolve = [[x[3],x[0],-x[1],x[2]]]\n",
    "        revL += remSolve\n",
    "    revL.reverse()\n",
    "    \n",
    "    # Bezout's identity algorithm (back-substitution)\n",
    "    coeff1 = 1\n",
    "    coeff2 = revL[0][2]\n",
    "    # print(f\"Starting with {L[-1][-1]} = {coeff1}x{revL[0][1]} + {coeff2}x{revL[0][3]}\\n\")\n",
    "    for i in range(0,len(revL)-1):\n",
    "        # print(f\"Substituting in {revL[i+1][0]} = 1x{revL[i+1][1]} + {revL[i+1][2]}x{revL[i+1][3]}\")\n",
    "        # print(f\"Now we have {L[-1][-1]} = {coeff1}x{revL[i][1]} + {revL[i][2]}x(1x{revL[i+1][1]} + {revL[i+1][2]}x{revL[i+1][3]})\")\n",
    "        oldCoeff1 = coeff1\n",
    "        coeff1 = coeff2\n",
    "        # print(f\"coeff1 is now {coeff1}\")\n",
    "        coeff2 = oldCoeff1 + (coeff2*revL[i+1][2])\n",
    "        # print(f\"coeff2 is now {coeff2}\")\n",
    "        # print(f\"Simplifying gives us {L[-1][-1]} = {coeff1}x{revL[i+1][1]} + {coeff2}x{revL[i][1]}\\n\")\n",
    "    return (L[-1][-1],[coeff1, coeff2])   "
   ]
  },
  {
   "cell_type": "code",
   "execution_count": null,
   "metadata": {},
   "outputs": [],
   "source": [
    "import random"
   ]
  },
  {
   "cell_type": "code",
   "execution_count": null,
   "metadata": {},
   "outputs": [],
   "source": [
    "p = 41\n",
    "q = 43\n",
    "print(f\"Our prime numbers are {p} and {q}\")\n",
    "n = p*q\n",
    "print(f\"n (their product) is {n}\")\n",
    "phi = (p-1)*(q-1)\n",
    "Z_mod = list(range(1,phi))\n",
    "e = random.choice(Z_mod)\n",
    "lc = euclidAl(phi,e)\n",
    "while lc[0] != 1:\n",
    "    e = random.choice(Z_mod)\n",
    "    lc = euclidAl(phi,e)\n",
    "print(f\"We randomly chose e to be {e}\")\n",
    "# print(f\"The euclidean algorithm tells us that {lc[1][0]}x{phi}+{lc[1][1]}x{e}=1\")\n",
    "d = lc[1][1]\n",
    "while d not in Z_mod:\n",
    "    if d < 0:\n",
    "        d += phi\n",
    "    elif d >= phi:\n",
    "        d -= phi\n",
    "print(f\"Therefore d is {d}\")"
   ]
  },
  {
   "cell_type": "markdown",
   "metadata": {},
   "source": [
    "### Task #2\n",
    "\n",
    "Your next task is to write two more functions: \n",
    "- `encrypt(num)` takes a string (the output of `letterToNumber()`) and converts it to a _new_ long number using the RSA formula\n",
    "\n",
    "- `decrypt(num)` takes a string (the output of `encrypt()`) and concerts it _back_ to the regular ASCII number string (the output of `letterToNumber()`)\n",
    "\n",
    "Here are some hints:\n",
    "- If you use the encryption and decryption functions on a single large number, your computer may never finish running the calculations! Consider having the functions run on one \"character\" at a time\n",
    "- If you do this, be sure to check that the functions \"read\" the strings correctly. For example, if `encrypt()` converts '108' to '1365', you will have to make sure that `decrypt()` is \"aware\" of this length (`encrypt()` might not output three-digit numbers!\n",
    "- Although `encrypt()` might convert 3-digit numbers to 4-digit numbers, make sure that `decrypt()` only returns 3-digit numbers! Otherwise we won't be able to convert it back to letters!\n",
    "\n",
    "Once you have done this, you should be able to use all four functions as follows:\n",
    "1. Think of a message (ex \"CS\")\n",
    "2. Call `letterToNumber('CS')`; it should output something like '067083'\n",
    "3. Call `encrypt('067083')`; it should then output something like '7911600' - this is the encrypted message!\n",
    "4. Call `decrypt('7911600')`; it should output '067083' again!\n",
    "5. Call `numberToLetter('067083')`; it should finally output 'CS'"
   ]
  },
  {
   "cell_type": "code",
   "execution_count": null,
   "metadata": {},
   "outputs": [],
   "source": [
    "def encrypt(num):\n",
    "    \"\"\"Encrypts a message (in number form)\"\"\"\n",
    "    print(f\"Encrypting...\")\n",
    "    secret = ''\n",
    "    L = []\n",
    "    while len(num) > 0:\n",
    "        piece = str((int(num[:3])**e)%n)\n",
    "        secret += piece\n",
    "        # print(f\"Exchanging {piece} with {num[:3]}\")\n",
    "        L += [len(piece)]\n",
    "        num = num[3:]\n",
    "        \n",
    "    print(f\"Encrypted message is {secret}\\n\")\n",
    "    return secret, L"
   ]
  },
  {
   "cell_type": "code",
   "execution_count": null,
   "metadata": {},
   "outputs": [],
   "source": [
    "def decrypt(num,L):\n",
    "    \"\"\"Decrypts a message (in number form)\"\"\"\n",
    "    print(f\"Decrypting...\")\n",
    "    secret = ''\n",
    "    while len(num) > 1:\n",
    "        piece = str((int(num[:L[0]])**d)%n)\n",
    "        while len(piece) < 3:\n",
    "            piece = '0' + piece\n",
    "        secret += piece\n",
    "        # print(f\"Exchanging {piece} with {num[:L[0]]}\")\n",
    "        num = num[L[0]:]\n",
    "        L = L[1:]\n",
    "        \n",
    "    print(f\"Decrypted message is {secret}\\n\")\n",
    "    return secret"
   ]
  },
  {
   "cell_type": "code",
   "execution_count": null,
   "metadata": {
    "scrolled": true
   },
   "outputs": [],
   "source": [
    "send = 'omega poggers'\n",
    "num = letterToNumber(send)\n",
    "encrypted, eList = encrypt(num)\n",
    "decrypted = decrypt(encrypted, eList)\n",
    "receive = numberToLetter(decrypted)"
   ]
  },
  {
   "cell_type": "markdown",
   "metadata": {},
   "source": [
    "## Have Fun!\n",
    "\n",
    "Below is a function that opens txt files and gets a string of everything inside!\n",
    "\n",
    "We've also included some txt files for you to play around with...\n",
    "\n",
    "Feel free to encrypt and decrypt whatever you want! \n",
    "\n",
    "Now you can have some privacy when communicating with other people!"
   ]
  },
  {
   "cell_type": "code",
   "execution_count": null,
   "metadata": {},
   "outputs": [],
   "source": [
    "def openFile(filename):\n",
    "    openMe=open(filename, 'r', encoding='latin1')\n",
    "    contont=openMe.read()\n",
    "    return contont"
   ]
  },
  {
   "cell_type": "code",
   "execution_count": null,
   "metadata": {},
   "outputs": [],
   "source": [
    "send = openFile('DOI.txt')\n",
    "num = letterToNumber(send)\n",
    "encrypted, eList = encrypt(num)\n",
    "decrypted = decrypt(encrypted, eList)\n",
    "receive = numberToLetter(decrypted)"
   ]
  },
  {
   "cell_type": "code",
   "execution_count": null,
   "metadata": {},
   "outputs": [],
   "source": [
    "send = openFile('important.txt')\n",
    "num = letterToNumber(send)\n",
    "encrypted, eList = encrypt(num)\n",
    "decrypted = decrypt(encrypted, eList)\n",
    "receive = numberToLetter(decrypted)"
   ]
  },
  {
   "cell_type": "code",
   "execution_count": null,
   "metadata": {},
   "outputs": [],
   "source": [
    "send = openFile('important.txt')\n",
    "num = letterToNumber(send)\n",
    "encrypted, eList = encrypt(num)\n",
    "decrypted = decrypt(encrypted, eList)\n",
    "receive = numberToLetter(decrypted)"
   ]
  },
  {
   "cell_type": "code",
   "execution_count": null,
   "metadata": {},
   "outputs": [],
   "source": [
    "send = openFile('song.txt')\n",
    "num = letterToNumber(send)\n",
    "encrypted, eList = encrypt(num)\n",
    "decrypted = decrypt(encrypted, eList)\n",
    "receive = numberToLetter(decrypted)"
   ]
  },
  {
   "cell_type": "code",
   "execution_count": null,
   "metadata": {},
   "outputs": [],
   "source": []
  }
 ],
 "metadata": {
  "kernelspec": {
   "display_name": "Python 3",
   "language": "python",
   "name": "python3"
  },
  "language_info": {
   "codemirror_mode": {
    "name": "ipython",
    "version": 3
   },
   "file_extension": ".py",
   "mimetype": "text/x-python",
   "name": "python",
   "nbconvert_exporter": "python",
   "pygments_lexer": "ipython3",
   "version": "3.8.3"
  }
 },
 "nbformat": 4,
 "nbformat_minor": 4
}
