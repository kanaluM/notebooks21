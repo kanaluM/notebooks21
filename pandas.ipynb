{
 "cells": [
  {
   "cell_type": "markdown",
   "metadata": {},
   "source": [
    "# House Hunters!\n",
    "\n",
    "Welcome to the wonderful world of real estate!\n",
    "\n",
    "Buying a home is a huge life decision, and it is important to be informed about the housing market.\n",
    "We will analyze some housing data using Pandas!\n",
    "\n",
    "What is pandas? \n",
    "Python Data Analysis Library? Panel Data? \n",
    "Who knows!?\n",
    "\n",
    "Pandas uses a special object called a \"DataFrame\" to store information. We will see how convenient this data frame is!"
   ]
  },
  {
   "cell_type": "code",
   "execution_count": null,
   "metadata": {},
   "outputs": [],
   "source": [
    "# Let's start by importing the pandas library\n",
    "import pandas as pd   # abbreviated \"pd\""
   ]
  },
  {
   "cell_type": "markdown",
   "metadata": {},
   "source": [
    "We have a housing csv (reminder: \"comma-separated values\") file with all the data we want to analyze (Thanks Internet!)\n",
    "\n",
    "Pandas has a function that makes it easy to import data: read_csv\n",
    "\n",
    "read_csv can take a whole bunch of different inputs, but for now, we can just pass in the name of the file we want to open as a string. If the file is not in the same folder as your notebook file, you can pass in a path from the notebook directory to the file directory (as a string).\n",
    "\n",
    "This function will automatically convert the data in the csv file into the data frame that pandas uses.\n",
    "Be sure to give the data frame a name for easy reference later!"
   ]
  },
  {
   "cell_type": "code",
   "execution_count": null,
   "metadata": {},
   "outputs": [],
   "source": [
    "# We will import the data as a data frame called \"zillow\"\n",
    "zillow = pd.read_csv('./week3/housing.csv')"
   ]
  },
  {
   "cell_type": "markdown",
   "metadata": {},
   "source": [
    "You can type 'zillow' to view the data frame.\n",
    "By default, it will only display the first and last 5 rows of the data frame.\n",
    "Alternatively, you can use zillow.head(n) to view the first n (n<=60) rows only, or zillow.tail(n) to view the last n rows."
   ]
  },
  {
   "cell_type": "code",
   "execution_count": null,
   "metadata": {},
   "outputs": [],
   "source": [
    "# Let's see what our data frame looks like\n",
    "zillow"
   ]
  },
  {
   "cell_type": "markdown",
   "metadata": {},
   "source": [
    "As you can see, pandas organizes the data in a very user-friendly way (and there's a lot of data to be organized!)\n",
    "\n",
    "There are a lot of ways to view and access the data. We will go over some of the basic ones"
   ]
  },
  {
   "cell_type": "code",
   "execution_count": null,
   "metadata": {},
   "outputs": [],
   "source": [
    "# We can view all of the columns available\n",
    "zillow.columns"
   ]
  },
  {
   "cell_type": "code",
   "execution_count": null,
   "metadata": {},
   "outputs": [],
   "source": [
    "# We can access a column by inputting its name in brackets like so\n",
    "zillow['SalePrice']"
   ]
  },
  {
   "cell_type": "code",
   "execution_count": null,
   "metadata": {},
   "outputs": [],
   "source": [
    "# We can access a single value by using its index\n",
    "zillow['SalePrice'][2925]"
   ]
  },
  {
   "cell_type": "code",
   "execution_count": null,
   "metadata": {},
   "outputs": [],
   "source": [
    "# We can even splice the indices!\n",
    "zillow['SalePrice'][0:3]"
   ]
  },
  {
   "cell_type": "code",
   "execution_count": null,
   "metadata": {},
   "outputs": [],
   "source": [
    "# We can use zillow.loc[n] to locate a house by its index number n (0-2929)\n",
    "zillow.loc[0]"
   ]
  },
  {
   "cell_type": "code",
   "execution_count": null,
   "metadata": {},
   "outputs": [],
   "source": [
    "# We can even search by using conditional statements!\n",
    "# This command locates all of the houses whose sale prices are $170000\n",
    "zillow.loc[zillow['SalePrice'] == 170000]"
   ]
  },
  {
   "cell_type": "code",
   "execution_count": null,
   "metadata": {},
   "outputs": [],
   "source": [
    "# By default, loc[] displays all columns of information\n",
    "# We can pass specific columns we want to view (as a list if there are more than 1)\n",
    "\n",
    "zillow.loc[zillow['SalePrice'] == 170000, ['SalePrice','Central Air', 'Full Bath', 'Pool QC']]\n",
    "\n",
    "# Remember that zillow.index gives you a list of all the columns!"
   ]
  },
  {
   "cell_type": "markdown",
   "metadata": {},
   "source": [
    "When accessing data in a data frame, it is usually necessary to know the index of the data you want!\n",
    "\n",
    "Sometimes default indices are not useful. \n",
    "\n",
    "Let's re-index our data frame so that we can search for homes by order number!"
   ]
  },
  {
   "cell_type": "code",
   "execution_count": null,
   "metadata": {},
   "outputs": [],
   "source": [
    "# We can use zillow.set_index(column) to set a given column as our indices insetad of 0-2929!\n",
    "# Setting the 'inplace' parameter as True causes the existing data frame to change when we call set_index (insetad of creating a new data frame)\n",
    "# Setting the 'drop' parameter as False keeps the original column in the data frame (instead of deleting it)\n",
    "zillow.set_index('Order', drop=False, inplace=True)\n",
    "zillow"
   ]
  },
  {
   "cell_type": "code",
   "execution_count": null,
   "metadata": {},
   "outputs": [],
   "source": [
    "# Now we can use loc[] to find search for homes by order number\n",
    "zillow.loc[2930]\n",
    "\n",
    "# And you can make the index whatever you want!"
   ]
  },
  {
   "cell_type": "markdown",
   "metadata": {},
   "source": [
    "Practice time!\n",
    "\n",
    "You are working at a real estate company as an underpaid intern.\n",
    "Your boss asks you to find the order number of a house that they sold several years ago.\n",
    "They give you the following information:\n",
    "\n",
    "-SalePrice is less than $300000\n",
    "\n",
    "-Yr Sold is 2010\n",
    "\n",
    "-Lot Area is greater than 10000\n",
    "\n",
    "-Bedroom AbvGr (above ground = not in basement) is 3\n",
    "\n",
    "-Mo Sold was June (June = 6)\n",
    "\n",
    "-Overall Qual was 9 (out of 10)\n",
    "\n",
    "Find the order number of this house!\n",
    "\n",
    "HINT: Start by creating a NEW data frame with houses that pass just _one_ of the filters"
   ]
  },
  {
   "cell_type": "code",
   "execution_count": null,
   "metadata": {},
   "outputs": [],
   "source": [
    "s1 = zillow.loc[zillow['SalePrice']<300000]\n",
    "s2 = s1.loc[s1['Yr Sold']==2010]\n",
    "s3 = s2.loc[s2['Lot Area']>10000]\n",
    "s4 = s3.loc[s3['Bedroom AbvGr']==3]\n",
    "s5 = s4.loc[s4['Mo Sold']==6]\n",
    "s6 = s5.loc[s4['Overall Qual']==9]\n",
    "s6"
   ]
  }
 ],
 "metadata": {
  "kernelspec": {
   "display_name": "Python 3",
   "language": "python",
   "name": "python3"
  },
  "language_info": {
   "codemirror_mode": {
    "name": "ipython",
    "version": 3
   },
   "file_extension": ".py",
   "mimetype": "text/x-python",
   "name": "python",
   "nbconvert_exporter": "python",
   "pygments_lexer": "ipython3",
   "version": "3.8.3"
  }
 },
 "nbformat": 4,
 "nbformat_minor": 4
}
