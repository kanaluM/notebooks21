{
 "cells": [
  {
   "cell_type": "markdown",
   "metadata": {},
   "source": [
    "Welcome to Jupyter Notebooks! This is an application that allows you to integrate code and visuals (and it's becoming the go-to standard of interaction in data-science fields, as it's supported by Python, Matlab, R, and other languages). In this lab, we will learn some of the basics of Jupyter Notebooks using a Python module: the turtle module!\n",
    "\n",
    "As you can see, the Jupyter Notebooks interface contains \"cells\" of code. This text is in a \"markdown\" cell. These cells are used for displaying text, and they even support LaTeX!\n",
    "\n",
    "The other main cell type is the \"code\" cell. As the name suggests, these are cells that run code. We will mostly be using code cells.\n",
    "\n",
    "The first thing we want to do is import the turtle module. A \"module\" is SOMETHING. "
   ]
  },
  {
   "cell_type": "code",
   "execution_count": null,
   "metadata": {},
   "outputs": [],
   "source": [
    "# We can write comments using '#' in Jupyter Notebooks too!\n",
    "# This import statement will give us access to functions in the turtle module\n",
    "import turtle\n",
    "\n",
    "# At the top of the window, press the 'Run' button to import the module"
   ]
  },
  {
   "cell_type": "markdown",
   "metadata": {},
   "source": [
    "Notice that the In[     ] on the left of the cell should have turned into In[1] (or some other number). This indicates that the cell has succesfuly executed the code in it. If you see In[\\*], that means that the cell is still running."
   ]
  },
  {
   "cell_type": "code",
   "execution_count": null,
   "metadata": {},
   "outputs": [],
   "source": [
    "# Let's make a turtle named \"Tyler\"\n",
    "tyler = turtle.Turtle()\n",
    "# Turtle() is a function from the turtle module\n",
    "# Turtle() creates our turtle"
   ]
  },
  {
   "cell_type": "code",
   "execution_count": null,
   "metadata": {},
   "outputs": [],
   "source": []
  }
 ],
 "metadata": {
  "kernelspec": {
   "display_name": "Python 3",
   "language": "python",
   "name": "python3"
  },
  "language_info": {
   "codemirror_mode": {
    "name": "ipython",
    "version": 3
   },
   "file_extension": ".py",
   "mimetype": "text/x-python",
   "name": "python",
   "nbconvert_exporter": "python",
   "pygments_lexer": "ipython3",
   "version": "3.8.3"
  }
 },
 "nbformat": 4,
 "nbformat_minor": 4
}
