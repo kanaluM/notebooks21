{
 "cells": [
  {
   "cell_type": "markdown",
   "metadata": {},
   "source": [
    "# Gradescope 2.0\n",
    "\n",
    "Welcome to CS grading! \n",
    "\n",
    "Get started by running the cell below!"
   ]
  },
  {
   "cell_type": "code",
   "execution_count": null,
   "metadata": {},
   "outputs": [],
   "source": [
    "# python libraries!\n",
    "import os\n",
    "import os.path\n",
    "import shutil"
   ]
  },
  {
   "cell_type": "markdown",
   "metadata": {},
   "source": [
    "## TO DO\n",
    "\n",
    "PLEASE FILL OUT THE CELL BELOW\n",
    "\n",
    "- `currentDirectory` is the location of this notebook. Make sure the assignment folder from gradescope is in the same directory as this notebook!  \n",
    "\n",
    "- `assignment` should be the name of the assignment you are grading (i.e. \"hw9pr3\"). Please format as a __string__\n",
    "\n",
    "- `gradescopeFolder` should be the name of the assignment folder downloaded from gradescope (i.e. \"assignment_1357934_export\"). Please format as a __string__"
   ]
  },
  {
   "cell_type": "code",
   "execution_count": null,
   "metadata": {},
   "outputs": [],
   "source": [
    "currentDirectory = %pwd\n",
    "print(f\"Current directory is '{currentDirectory}'\")\n",
    "\n",
    "assignment = \"hw9pr3\"\n",
    "print(f\"Creating a folder to hold the assignments called '{assignment}'\")\n",
    "\n",
    "gradescopeFolder = \"testSub\"\n",
    "print(f\"The assignments are currently in '{gradescopeFolder}'\")"
   ]
  },
  {
   "cell_type": "markdown",
   "metadata": {},
   "source": [
    "## Functions\n",
    "\n",
    "Below are several functions to get you started. A short description of them is provided, but understanding them is not necessary. All you have to do is run the cells below...\n",
    "\n",
    "`parseYML(path)` will read the yml file in the gradescope folder and return a dictionary\n",
    "- keys: student name (string)\n",
    "- values (list): \n",
    "    + assignment number (1,2,3... from gradescope - an integer)\n",
    "    + submission ID (an 8 digit number - a string)\n",
    "    \n",
    "`getSubmitNum(name, d)` uses the dictionary `d` from the `parseYML` function and a submission ID `name` and returns the assignment number (as a string)\n",
    "\n",
    "`organize(path, d)` uses the location of the gradescope folder `path` and the dictionary `d` from the `parseYML` function and makes a single new folder with renamed copies of all of the student submissions. For example, every \"hw9pr3.py\" file in the gradescope folder will be copied to a new folder named \"hw9pr3\" and renamed \"hw9pr3no#.py\" (where # is the assignment number that can be found on gradescope) \n",
    "\n",
    "__THIS LAST FUNCTION IS THE MOST IMPORTANT__ \n",
    "\n",
    "`openSubmission(num)` takes an assignment number `num` as an input and creates a new notebook cell with the `%load` command. This is a built-in \"magic function\" that will load the contents of a file into a cell. "
   ]
  },
  {
   "cell_type": "code",
   "execution_count": null,
   "metadata": {},
   "outputs": [],
   "source": [
    "def parseYML(path):\n",
    "    \"\"\"Parses the yml file and returns a dictionary\n",
    "       key (string): student name\n",
    "       value (list): submision number (1,2,3... int) \n",
    "       and submission id (8 digit number - string)\"\"\"\n",
    "    \n",
    "    ymlData = open(path, \"r\").read()\n",
    "    myData = {}\n",
    "    submitNumber = 1\n",
    "    for piece in ymlData.split(\"\\n\"):\n",
    "        if \"submission_\" in piece:\n",
    "            submitID = piece[-9:-1]\n",
    "        if \":name:\" in piece:\n",
    "            myData[piece[11:]] = [submitNumber, submitID]\n",
    "            submitNumber += 1\n",
    "    return myData"
   ]
  },
  {
   "cell_type": "code",
   "execution_count": null,
   "metadata": {},
   "outputs": [],
   "source": [
    "def getSubmitNum(name, d):\n",
    "    \"\"\"Uses dictionary to find submission number based on submission ID\n",
    "       name (string) = submission ID (8 digit number)\n",
    "       d (dictionary) = output of parseYML function\n",
    "       returns submission number (1,2,3...) as a string\"\"\"\n",
    "    \n",
    "    L = [x[0] for x in list(d.values()) if x[1]==name]\n",
    "    \n",
    "    return str(L[0])"
   ]
  },
  {
   "cell_type": "code",
   "execution_count": null,
   "metadata": {},
   "outputs": [],
   "source": [
    "def organize(path, d):\n",
    "    \"\"\"copy all the assignments into a single folder\"\"\"\n",
    "    \n",
    "    newFolder = currentDirectory + '/' + assignment   # YOUR DIRECTORY\n",
    "    os.mkdir(newFolder)                        # make a new folder \"hw9pr3.py\"\n",
    "\n",
    "    AllFiles = list(os.walk(path))\n",
    "    for item in AllFiles:   \n",
    "        foldername, LoDirs, LoFiles = item \n",
    "        for filename in LoFiles:\n",
    "            if filename == f\"{assignment}.py\":    # find files named \"hw9pr3.py\"\n",
    "                fullfilename = foldername + '/' + filename\n",
    "                # print(f\"Found a file named {filename} in {foldername}\")\n",
    "                \n",
    "                shutil.copy(fullfilename,newFolder)   # add to folder\n",
    "                # print(f\"Copying to {newFolder}\")\n",
    "                \n",
    "                newName = f'./{assignment}/' + filename[:-3] + f'no{getSubmitNum(foldername[-8:], d)}.py'   # rename files with submission num\n",
    "                os.rename(f\"./{assignment}/{assignment}.py\", newName)   \n",
    "                # print(f\"Renaming it {newName}\\n\")\n",
    "                \n",
    "    return"
   ]
  },
  {
   "cell_type": "code",
   "execution_count": null,
   "metadata": {},
   "outputs": [],
   "source": [
    "def openSubmission(num):\n",
    "    \"\"\"open all of the assignments in this notebook in separate cells\"\"\"\n",
    "    \n",
    "    get_ipython().set_next_input(f\"%load ./{assignment}/{assignment}no{num}.py\")"
   ]
  },
  {
   "cell_type": "markdown",
   "metadata": {},
   "source": [
    "# RUN THE CELL BELOW ONCE ONLY\n",
    "\n",
    "`organize` creates a new folder and copies of all the assignments. If for some reason you want to re-run it, you will have to delete any folders it creates first."
   ]
  },
  {
   "cell_type": "code",
   "execution_count": null,
   "metadata": {},
   "outputs": [],
   "source": [
    "organize(f\"./{gradescopeFolder}\", parseYML(f\"./{gradescopeFolder}/submission_metadata.yml\"))"
   ]
  },
  {
   "cell_type": "markdown",
   "metadata": {},
   "source": [
    "# The Workflow\n",
    "\n",
    "Change the input of the `openSubmission` function to create a new `%load` command\n",
    "\n",
    "For example, running `openSubmission(1)` will create a new cell populated with the command `%load ./hw9pr3/hw9pr3no1.py`. Running this new cell will fill it with the contents of hw9pr3no1.py\n",
    "\n",
    "Running the `openSubmission` cell multiple times will shift old cells down. Feel free to delete or keep cells you are already done looking at."
   ]
  },
  {
   "cell_type": "code",
   "execution_count": null,
   "metadata": {},
   "outputs": [],
   "source": [
    "openSubmission(1)"
   ]
  }
 ],
 "metadata": {
  "kernelspec": {
   "display_name": "Python 3",
   "language": "python",
   "name": "python3"
  },
  "language_info": {
   "codemirror_mode": {
    "name": "ipython",
    "version": 3
   },
   "file_extension": ".py",
   "mimetype": "text/x-python",
   "name": "python",
   "nbconvert_exporter": "python",
   "pygments_lexer": "ipython3",
   "version": "3.8.3"
  }
 },
 "nbformat": 4,
 "nbformat_minor": 4
}
