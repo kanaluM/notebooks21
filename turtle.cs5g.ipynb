{
 "cells": [
  {
   "cell_type": "markdown",
   "metadata": {},
   "source": [
    "# Lab 2: The Intoxicated Turtle \n",
    "### (30 Points; Individual or Pair)\n",
    "\n",
    "In this problem you will be writing a number of Python Remember to include a docstring for every function that you write!\n",
    "\n",
    "## Part 0: distance\n",
    "\n",
    "Your first task is to write a very simple function called `distance(x1, y1, x2, y2)` that takes as input the coordinates of two points (x1, y1) and (x2, y2) and returns the distance between those two points. We'll use this function several times this week. Of course, this function will need to compute the square root. \n",
    "\n",
    "- Python has exponentiation built-in using the ** operator, so you can compute the square root of 5, for example, as 5 ** (0.5).\n",
    "- Alternatively, you can use the square root function in the math package (which we'll also use a lot this semester, so it's worth getting used to!) by invoking math.sqrt(5), for example. \n",
    "\n",
    "To see the full set of functions in the Python math package, take a look at http://docs.python.org/library/math.html."
   ]
  },
  {
   "cell_type": "code",
   "execution_count": null,
   "metadata": {},
   "outputs": [],
   "source": [
    "# The math module\n",
    "import math"
   ]
  },
  {
   "cell_type": "code",
   "execution_count": null,
   "metadata": {},
   "outputs": [],
   "source": [
    "def distance(x1, y1, x2, y2):\n",
    "    \"\"\"Takes as input the coordinates of two points\n",
    "    (x1, y1) and (x2, y2) and returns the distance\n",
    "    between those two points\"\"\"\n",
    "    \n",
    "    d = math.sqrt((x2-x1)**2+(y2-y1)**2)\n",
    "    return d"
   ]
  },
  {
   "cell_type": "code",
   "execution_count": null,
   "metadata": {},
   "outputs": [],
   "source": [
    "print(\"Test Cases!\")\n",
    "print(f\"distance(0,0,0,0) should return 0.0; your function returns {distance(0,0,0,0)}\")\n",
    "print(f\"distance(0,0,1,0) should return 1.0; your function returns {distance(0,0,1,0)}\")\n",
    "print(f\"distance(3,0,0,4) should return 5.0; your function returns {distance(3,0,0,4)}\")"
   ]
  },
  {
   "cell_type": "markdown",
   "metadata": {},
   "source": [
    "## Part 1: `for` loops\n",
    "In this part, you'll write several short functions using `for` loops. While these functions may also be written using the `map` and `reduce` functions that we used last week, the point of this problem is to \"flex\" your for loop muscles, so please use `for` loops here.\n",
    "\n",
    "You may also need to use `if` statements for some of these functions as well. Finally, lists will certainly be used! Keep in mind that the the built-in function `range(a, b)` returns a list of integers from `a` to `b` (but not including `b`). Also, the built-in function `len(L)` returns the length of the list `L`.\n",
    "\n",
    "Your task is to write the following functions:\n",
    "\n",
    "- `count(x, L)` takes a number `x` and a list of numbers `L` as input and returns a number indicating the number of times that `x` occurs in `L`. For example,\n",
    " - `count(42, [1, 2, 42, 3, 42])` should return `2`\n",
    " - `count(42, [1, 2, 3])` should return `0`\n",
    "       \n",
    "- `harmonic(k)` takes a positive integer `k` as input and returns the sum of the first $k$ terms in the the harmonic series: \n",
    "\n",
    "$$1 + 1/2 + 1/3 + ... + 1/k$$.  \n",
    "Perhaps surprisingly, the harmonic series (this sum as $k$ goes to infinity) diverges - that is goes to infinity in the limit, albeit very slowly. The harmonic series frequently arises in the most surprising places in the sciences. Here is an example of harmonic in action:\n",
    "- `harmonic(1)` should return `1.0`\n",
    "- `harmonic(2)` should return `1.5`\n",
    "- `harmonic(3)` should return `1.8333333333333333`\n",
    "- `harmonic(100)` should return `5.1873775176396206`"
   ]
  },
  {
   "cell_type": "code",
   "execution_count": null,
   "metadata": {},
   "outputs": [],
   "source": [
    "def count(x,L):\n",
    "    \"\"\"Takes a number x and a list of numbers L as input \n",
    "    and returns a number indicating the number of times \n",
    "    that x occurs in L\"\"\"\n",
    "    \n",
    "    count = 0\n",
    "    for e in L:\n",
    "        if e == x:\n",
    "            count += 1\n",
    "    return count"
   ]
  },
  {
   "cell_type": "code",
   "execution_count": null,
   "metadata": {},
   "outputs": [],
   "source": [
    "print(\"Test Cases!\")\n",
    "print(f\"{'count(42, [])':<30} should return 0; your function returns {count(42, [])}\")\n",
    "print(f\"{'count(42, [1, 2, 42, 3, 42])':<30} should return 2; your function returns {count(42, [1, 2, 42, 3, 42])}\")\n",
    "print(f\"{'count(42, [1, 2, 3])':<30} should return 0; your function returns {count(42, [1, 2, 3])}\")"
   ]
  },
  {
   "cell_type": "code",
   "execution_count": null,
   "metadata": {},
   "outputs": [],
   "source": [
    "def harmonic(k):\n",
    "    \"\"\"takes a positive integer k as input and returns the \n",
    "    sum of the first  𝑘  terms in the the harmonic series\"\"\"\n",
    "    \n",
    "    sum = 0\n",
    "    for i in range(1,k+1):\n",
    "        sum += 1/i\n",
    "    return sum"
   ]
  },
  {
   "cell_type": "code",
   "execution_count": null,
   "metadata": {},
   "outputs": [],
   "source": [
    "print(f\"{'harmonic(1)':<13} should return {'1.0':>18}; your function returns {harmonic(1)}\")\n",
    "print(f\"{'harmonic(2)':<13} should return {'1.5':>18}; your function returns {harmonic(2)}\")\n",
    "print(f\"{'harmonic(3)':<13} should return {'1.8333333333333333':>18}; your function returns {harmonic(3)}\")\n",
    "print(f\"{'harmonic(100)':<13} should return {'5.1873775176396206':>18}; your function returns {harmonic(100)}\")"
   ]
  },
  {
   "cell_type": "markdown",
   "metadata": {},
   "source": [
    "## Part 2: Plotting with pyplot\n",
    "\n",
    "Since we will be using a tool called pyplot in the next part of this problem to graph data, here is a short tutorial of how to use it. \n",
    "\n",
    "If you are working on your own computer, then you will have to install matplotlib from here. Then, you can use the `plt.plot` command to plot points. You can use the command `plt.show()` to correctly show the plot in jupyter notebooks. The `plt.plot()` function is interesting in that it can be used in various different ways. \n",
    "\n",
    "Here are a few illustrative examples:"
   ]
  },
  {
   "cell_type": "code",
   "execution_count": null,
   "metadata": {},
   "outputs": [],
   "source": [
    "# pyplot library\n",
    "import matplotlib.pyplot as plt\n",
    "\n",
    "# magic functions!\n",
    "%matplotlib inline"
   ]
  },
  {
   "cell_type": "code",
   "execution_count": null,
   "metadata": {},
   "outputs": [],
   "source": [
    "plt.plot([1, 2, 10])\n",
    "plt.show()"
   ]
  },
  {
   "cell_type": "markdown",
   "metadata": {},
   "source": [
    "Python assumes that the x-coordinates are the list indices. In this case 0, 1, 2 since the list has 3 elements. The y-coordinates are the values in the list. So, the points (0, 1), (1, 2), (2, 10) are plotted. In fact, the default is that line segments are plotted through these points so that we get the plot above.\n",
    "\n",
    "Another option is to provide `plt.plot()` with two lists of the same length. The first list is the set of x-coordinates and the second is the list of y-coordinates"
   ]
  },
  {
   "cell_type": "code",
   "execution_count": null,
   "metadata": {},
   "outputs": [],
   "source": [
    "plt.plot([0, 2, 5, 10], [4, 12, 15, 30])\n",
    "plt.show()"
   ]
  },
  {
   "cell_type": "markdown",
   "metadata": {},
   "source": [
    "Now, we get a plot of points (0, 4), (2, 12), (5, 15), (10, 30) as shown above\n",
    "\n",
    "**Your task** is to write a function called `hplot(low, high)` that has values of `k` from low to high on the x-axis and plots `harmonic(k)` for each `k` from `low` to `high` on the y-axis."
   ]
  },
  {
   "cell_type": "code",
   "execution_count": null,
   "metadata": {},
   "outputs": [],
   "source": [
    "def hplot(low,high):\n",
    "    \"\"\"Plots harmonic(k) for each k from low to high\"\"\"\n",
    "    \n",
    "    x = []\n",
    "    y = []\n",
    "    for i in range(low,high+1):\n",
    "        x += [i]\n",
    "        y += [harmonic(i)]\n",
    "    \n",
    "    plt.plot(x,y)\n",
    "    plt.show()"
   ]
  },
  {
   "cell_type": "code",
   "execution_count": null,
   "metadata": {},
   "outputs": [],
   "source": [
    "hplot(0,1000)"
   ]
  },
  {
   "cell_type": "markdown",
   "metadata": {},
   "source": [
    "## Part 3: The Intoxicated Turtle\n",
    "\n",
    "Consider a turtle that is slightly intoxicated and wanders randomly for some number of steps. At each step, the turtle turns to the left or right by some random amount, takes another step, and repeats this process. While giddy turtles are not a serious area of research (as far as we know) the process described here is called a \"random walk\" and is an area of considerable interest. Next week, we will see how these ideas arise in the way that bacteria find their \"food\".\n",
    "\n",
    "The first ingredient that you will need is the ability to generate random numbers. We can use python's built-in `random` module!\n",
    "\n",
    "The command `random.uniform(-10, 20)` will return a random float between -10 and 20. Of course, you can return random numbers in any range that you want. \n",
    "\n",
    "Although that's all you'll need in the random module for now, if you would like to see all of the functions in the random module you can find them here: https://docs.python.org/3/library/random.html"
   ]
  },
  {
   "cell_type": "code",
   "execution_count": null,
   "metadata": {},
   "outputs": [],
   "source": [
    "import random"
   ]
  },
  {
   "cell_type": "code",
   "execution_count": null,
   "metadata": {},
   "outputs": [],
   "source": [
    "random.uniform(-10,20)"
   ]
  },
  {
   "cell_type": "markdown",
   "metadata": {},
   "source": [
    "The `turtle` module provides us with a virtual turtle that can be controlled through Python commands. Instructions on setting up `turtle` are on this page: https://www.cs.hmc.edu/twiki/bin/view/CS5Green/TurtleDirections\n",
    "\n",
    "Try commands like these:"
   ]
  },
  {
   "cell_type": "code",
   "execution_count": null,
   "metadata": {},
   "outputs": [],
   "source": [
    "from mobilechelonian import Turtle"
   ]
  },
  {
   "cell_type": "code",
   "execution_count": null,
   "metadata": {},
   "outputs": [],
   "source": [
    "fig = plt.figure(figsize=(5,5))\n",
    "tyler = turtle.Turtle()"
   ]
  },
  {
   "cell_type": "code",
   "execution_count": null,
   "metadata": {},
   "outputs": [],
   "source": []
  }
 ],
 "metadata": {
  "kernelspec": {
   "display_name": "Python 3",
   "language": "python",
   "name": "python3"
  },
  "language_info": {
   "codemirror_mode": {
    "name": "ipython",
    "version": 3
   },
   "file_extension": ".py",
   "mimetype": "text/x-python",
   "name": "python",
   "nbconvert_exporter": "python",
   "pygments_lexer": "ipython3",
   "version": "3.8.3"
  }
 },
 "nbformat": 4,
 "nbformat_minor": 4
}
