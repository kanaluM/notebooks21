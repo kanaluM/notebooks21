{
 "cells": [
  {
   "cell_type": "markdown",
   "metadata": {},
   "source": [
    "# German Tank Problem\n",
    "\n",
    "\"In the statistical theory of estimation, the German tank problem consists of estimating the maximum of a discrete uniform distribution from sampling without replacement. In simple terms, suppose there exists an unknown number of items which are sequentially numbered from 1 to $N$. A random sample of these items is taken and their sequence numbers observed; the problem is to estimate $N$ from these observed numbers\" - Wikipedia\n",
    "\n",
    "The problem is motivated by problems that real statisticians faced during World War 2; The Allies wanted to estimate the amount of tanks that the Germans were producing, and they used serial numbers on captured tanks to do this.\n",
    "\n",
    "Read more at https://en.wikipedia.org/wiki/German_tank_problem\n",
    "\n",
    "Below, we have provided three methods for estimating the maximum number $N$ based on a sample. Note that $m$ is the maximum value in the sample and $n$ is the sample size\n",
    "- frequentist prediction: $N = m+\\frac{m}{n}-1$ \n",
    "  <br><br/>  \n",
    "- Bayesian median: $m + \\frac{m\\log_2}{n-1}$ \n",
    "  <br><br/> \n",
    "- Bayesian mean: $(m-1)\\frac{n-1}{n-2}$ \n",
    "\n",
    "Try it out!"
   ]
  },
  {
   "cell_type": "code",
   "execution_count": null,
   "metadata": {},
   "outputs": [],
   "source": [
    "# Libraries!\n",
    "import random\n",
    "import math\n",
    "import pandas as pd\n",
    "import seaborn as sns\n",
    "import numpy as np\n",
    "import matplotlib.pyplot as plt"
   ]
  },
  {
   "cell_type": "code",
   "execution_count": null,
   "metadata": {},
   "outputs": [],
   "source": [
    "tanks = random.randint(1,5000)\n",
    "sample = random.sample(range(1,tanks+1),5)\n",
    "Nf = max(sample) + max(sample)/len(sample) - 1\n",
    "Nd = max(sample) + max(sample)*math.log(2)/(len(sample) - 1)\n",
    "Nm = (max(sample)-1) * (len(sample)-1)/(len(sample)-2)\n",
    "print(f\"There are {tanks} tanks... but we don't know this!\")\n",
    "print(f\"Our captured tanks have numbers {sample}\")\n",
    "print(f\"Using the frequentist prediction, our estimate is {Nf}\")\n",
    "print(f\"Using the Bayesian median, our estimate is {Nd}\")\n",
    "print(f\"Using the Bayesian mean, our estimate is {Nm}\")"
   ]
  },
  {
   "cell_type": "markdown",
   "metadata": {},
   "source": [
    "## Aggregate Data\n",
    "\n",
    "Running the cell above will sometimes lead to good results... but sometimes it doesn't! How can we improve the estimates?\n",
    "\n",
    "Well, we know that the total number of tanks must be _at least_ as big as the maximum number in the sample.\n",
    "\n",
    "We can create _many_ random samples using **any** numbers less than this max value in order to generate _many_ more estimates. We can then use these aggregated estimates to create a better estimate of the true number of tanks\n",
    "\n",
    "`createEstimates(maxTanks,n)` does the following:\n",
    "1. Randomly pick a true number of tanks between 1 and maxTanks  \n",
    "2. Generates an initial random sample of n tanks  \n",
    "3. Generate 100 random samples based on the maximum value in the initial sample. \n",
    "4. Calculates three estimate for the true number of tanks from each sample using each of the three methods from above\n",
    "5. Returns a pandas dataframe (a table) of all the estimates from each sample categorized by method and the true number of tanks it randomly chose\n",
    "\n",
    "`graph(df,trueTanks)` plots the data from the previous function, as well as the true number of tanks\n",
    "\n",
    "Run the cells below to see it in action"
   ]
  },
  {
   "cell_type": "code",
   "execution_count": null,
   "metadata": {},
   "outputs": [],
   "source": [
    "def createEstimates(maxTanks,n):\n",
    "    \"\"\"Generates a random number of tanks and generates max\n",
    "    estimates using different methods. Returns dataframe\"\"\"\n",
    "    tanks = random.randint(1,maxTanks)\n",
    "    sampleInit = random.sample(range(1,tanks+1),n)\n",
    "    certainMax = max(sampleInit)\n",
    "\n",
    "    df = []\n",
    "\n",
    "    for x in range(100):\n",
    "        sample = random.sample(range(1,certainMax),n)\n",
    "        Nf = max(sample) + max(sample)/len(sample) - 1\n",
    "        Nd = max(sample) + max(sample)*math.log(2)/(len(sample) - 1)\n",
    "        Nm = (max(sample)-1) * (len(sample)-1)/(len(sample)-2)\n",
    "        df += [[Nf,Nd,Nm]]\n",
    "\n",
    "    columns = ['Frequentist','BMedian','BMean']\n",
    "    panda = pd.DataFrame(data=df,columns=columns)\n",
    "    print(f\"Our captured tanks have numbers {sample}\")\n",
    "    print(f\"There must be at least {max(sample)} tanks\")\n",
    "    return panda, tanks"
   ]
  },
  {
   "cell_type": "code",
   "execution_count": null,
   "metadata": {},
   "outputs": [],
   "source": [
    "def graph(df,trueTanks):\n",
    "    \"\"\"Generates graphs of different estimate methods\"\"\"\n",
    "    fig = plt.figure(figsize=(6,6))\n",
    "    ax1 = sns.kdeplot(x=df['Frequentist'])\n",
    "    ax2 = sns.kdeplot(x=df['BMedian'])\n",
    "    ax3 = sns.kdeplot(x=df['BMean'])\n",
    "    \n",
    "    x1 = ax1.lines[0].get_xdata() \n",
    "    y1 = ax1.lines[0].get_ydata() \n",
    "    maxid1 = np.argmax(y1)\n",
    "    \n",
    "    x2 = ax2.lines[1].get_xdata() \n",
    "    y2 = ax2.lines[1].get_ydata() \n",
    "    maxid2 = np.argmax(y2)\n",
    "    \n",
    "    x3 = ax3.lines[2].get_xdata() \n",
    "    y3 = ax3.lines[2].get_ydata() \n",
    "    maxid3 = np.argmax(y3)\n",
    "    \n",
    "    ax4 = plt.axvline(trueTanks,color='red')\n",
    "    # plt.axvline(x=x2[maxid2])\n",
    "    # plt.axvline(x=x3[maxid3])\n",
    "    \n",
    "    print(f\"The true number of tanks is {trueTanks}... but we don't know this!\")\n",
    "    print(f\"Peak of Frequentist is {x1[maxid1]}\")\n",
    "    print(f\"Peak of BMedian is {x2[maxid2]}\")\n",
    "    print(f\"Peak of BMean is {x3[maxid3]}\")\n",
    "    ax1.set(title='Estimating Tanks',xlabel='Max Estimates',ylabel='Frequency')\n",
    "    plt.legend(['Frequentist','BMedian','BMean','Actual'])"
   ]
  },
  {
   "cell_type": "code",
   "execution_count": null,
   "metadata": {},
   "outputs": [],
   "source": [
    "# +++ The Important Cell +++\n",
    "data,nVal = createEstimates(1000,7)\n",
    "graph(data,nVal)"
   ]
  },
  {
   "cell_type": "code",
   "execution_count": null,
   "metadata": {},
   "outputs": [],
   "source": []
  }
 ],
 "metadata": {
  "kernelspec": {
   "display_name": "Python 3",
   "language": "python",
   "name": "python3"
  },
  "language_info": {
   "codemirror_mode": {
    "name": "ipython",
    "version": 3
   },
   "file_extension": ".py",
   "mimetype": "text/x-python",
   "name": "python",
   "nbconvert_exporter": "python",
   "pygments_lexer": "ipython3",
   "version": "3.8.3"
  }
 },
 "nbformat": 4,
 "nbformat_minor": 4
}
